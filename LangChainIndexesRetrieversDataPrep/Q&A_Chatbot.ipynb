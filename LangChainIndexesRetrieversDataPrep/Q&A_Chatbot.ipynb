{
 "cells": [
  {
   "cell_type": "code",
   "execution_count": 1,
   "id": "f87e7acc",
   "metadata": {},
   "outputs": [
    {
     "data": {
      "text/plain": [
       "True"
      ]
     },
     "execution_count": 1,
     "metadata": {},
     "output_type": "execute_result"
    }
   ],
   "source": [
    "from dotenv import load_dotenv\n",
    "load_dotenv()"
   ]
  },
  {
   "cell_type": "code",
   "execution_count": null,
   "id": "d60e2c8a",
   "metadata": {},
   "outputs": [],
   "source": [
    "from langchain.embeddings.openai import OpenAIEmbeddings # to get emb\n",
    "from langchain.vectorstores import DeepLake  # vector store\n",
    "from langchain.text_splitter import CharacterTextSplitter #split large content based on char count\n",
    "from langchain import OpenAI\n",
    "from langchain.document_loaders import SeleniumURLLoader \n",
    "from langchain import PromptTemplate"
   ]
  },
  {
   "cell_type": "code",
   "execution_count": 3,
   "id": "18fac74b",
   "metadata": {},
   "outputs": [],
   "source": [
    "urls = ['https://beebom.com/what-is-nft-explained/',\n",
    "    'https://beebom.com/how-delete-spotify-account/',\n",
    "    'https://beebom.com/how-download-gif-twitter/',\n",
    "    'https://beebom.com/how-use-chatgpt-linux-terminal/',\n",
    "    'https://beebom.com/how-delete-spotify-account/',\n",
    "    'https://beebom. com/how-save-instagram-story-with-music/',\n",
    "    'https://beebon.com/how~install-pip-windows/',\n",
    "    'https://beebom.com/how-check-disk-usage-linux/']"
   ]
  },
  {
   "cell_type": "code",
   "execution_count": null,
   "id": "9d0aa611",
   "metadata": {},
   "outputs": [],
   "source": [
    "#Split the documents into chunks and compute their embeddings.\n"
   ]
  }
 ],
 "metadata": {
  "kernelspec": {
   "display_name": "LangChain",
   "language": "python",
   "name": "python3"
  },
  "language_info": {
   "codemirror_mode": {
    "name": "ipython",
    "version": 3
   },
   "file_extension": ".py",
   "mimetype": "text/x-python",
   "name": "python",
   "nbconvert_exporter": "python",
   "pygments_lexer": "ipython3",
   "version": "3.10.16"
  }
 },
 "nbformat": 4,
 "nbformat_minor": 5
}
