{
 "cells": [
  {
   "cell_type": "code",
   "execution_count": 1,
   "id": "f87e7acc",
   "metadata": {},
   "outputs": [
    {
     "data": {
      "text/plain": [
       "True"
      ]
     },
     "execution_count": 1,
     "metadata": {},
     "output_type": "execute_result"
    }
   ],
   "source": [
    "from dotenv import load_dotenv\n",
    "load_dotenv()"
   ]
  },
  {
   "cell_type": "code",
   "execution_count": 25,
   "id": "d60e2c8a",
   "metadata": {},
   "outputs": [],
   "source": [
    "from langchain.embeddings.openai import OpenAIEmbeddings # to get emb\n",
    "from langchain.vectorstores import DeepLake  # vector store\n",
    "from langchain.text_splitter import CharacterTextSplitter #split large content based on char count\n",
    "from langchain import OpenAI\n",
    "from langchain.schema import HumanMessage\n",
    "from langchain.chat_models import ChatOpenAI\n",
    "from langchain.document_loaders import SeleniumURLLoader \n",
    "from langchain import PromptTemplate"
   ]
  },
  {
   "cell_type": "code",
   "execution_count": 3,
   "id": "18fac74b",
   "metadata": {},
   "outputs": [],
   "source": [
    "urls = ['https://beebom.com/what-is-nft-explained/',\n",
    "    'https://beebom.com/how-delete-spotify-account/',\n",
    "    'https://beebom.com/how-download-gif-twitter/',\n",
    "    'https://beebom.com/how-use-chatgpt-linux-terminal/',\n",
    "    'https://beebom.com/how-delete-spotify-account/',\n",
    "    'https://beebom.com/how-save-instagram-story-with-music/',\n",
    "    'https://beebom.com/how-install-pip-windows/',\n",
    "    'https://beebom.com/how-check-disk-usage-linux/']"
   ]
  },
  {
   "cell_type": "markdown",
   "id": "49d436d5",
   "metadata": {},
   "source": [
    "### Split the documents into chunks and compute their embeddings and save in DB\n"
   ]
  },
  {
   "cell_type": "code",
   "execution_count": 4,
   "id": "9d0aa611",
   "metadata": {},
   "outputs": [
    {
     "name": "stdout",
     "output_type": "stream",
     "text": [
      "8\n",
      "104\n"
     ]
    }
   ],
   "source": [
    "loader = SeleniumURLLoader(urls=urls)\n",
    "raw_docs = loader.load()\n",
    "print(len(raw_docs))\n",
    "\n",
    "# split the raw docs into chunks based on chunk size\n",
    "text_splitter = CharacterTextSplitter(chunk_size = 1000, chunk_overlap=0)\n",
    "docs = text_splitter.split_documents(raw_docs)\n",
    "print(len(docs))\n",
    "\n"
   ]
  },
  {
   "cell_type": "code",
   "execution_count": 5,
   "id": "bfb54565",
   "metadata": {},
   "outputs": [
    {
     "name": "stderr",
     "output_type": "stream",
     "text": [
      "Creating 104 embeddings in 1 batches of size 104:: 100%|██████████| 1/1 [00:01<00:00,  1.91s/it]"
     ]
    },
    {
     "name": "stdout",
     "output_type": "stream",
     "text": [
      "Dataset(path='hub//charnvardhan/LangChainCustomerSupport', tensors=['text', 'metadata', 'embedding', 'id'])\n",
      "\n",
      "  tensor      htype       shape      dtype  compression\n",
      "  -------    -------     -------    -------  ------- \n",
      "   text       text      (104, 1)      str     None   \n",
      " metadata     json      (104, 1)      str     None   \n",
      " embedding  embedding  (104, 1536)  float32   None   \n",
      "    id        text      (104, 1)      str     None   \n"
     ]
    },
    {
     "name": "stderr",
     "output_type": "stream",
     "text": [
      "\n"
     ]
    },
    {
     "data": {
      "text/plain": [
       "['b5d95ae2-14f0-11f0-a1e8-0e8d4396c6f5',\n",
       " 'b5d95bd2-14f0-11f0-a1e8-0e8d4396c6f5',\n",
       " 'b5d95c04-14f0-11f0-a1e8-0e8d4396c6f5',\n",
       " 'b5d95c2c-14f0-11f0-a1e8-0e8d4396c6f5',\n",
       " 'b5d95c4a-14f0-11f0-a1e8-0e8d4396c6f5',\n",
       " 'b5d95c68-14f0-11f0-a1e8-0e8d4396c6f5',\n",
       " 'b5d95c90-14f0-11f0-a1e8-0e8d4396c6f5',\n",
       " 'b5d95cae-14f0-11f0-a1e8-0e8d4396c6f5',\n",
       " 'b5d95ccc-14f0-11f0-a1e8-0e8d4396c6f5',\n",
       " 'b5d95cea-14f0-11f0-a1e8-0e8d4396c6f5',\n",
       " 'b5d95d08-14f0-11f0-a1e8-0e8d4396c6f5',\n",
       " 'b5d95d26-14f0-11f0-a1e8-0e8d4396c6f5',\n",
       " 'b5d95d44-14f0-11f0-a1e8-0e8d4396c6f5',\n",
       " 'b5d95d62-14f0-11f0-a1e8-0e8d4396c6f5',\n",
       " 'b5d95d80-14f0-11f0-a1e8-0e8d4396c6f5',\n",
       " 'b5d95d9e-14f0-11f0-a1e8-0e8d4396c6f5',\n",
       " 'b5d95dbc-14f0-11f0-a1e8-0e8d4396c6f5',\n",
       " 'b5d95dda-14f0-11f0-a1e8-0e8d4396c6f5',\n",
       " 'b5d95df8-14f0-11f0-a1e8-0e8d4396c6f5',\n",
       " 'b5d95e16-14f0-11f0-a1e8-0e8d4396c6f5',\n",
       " 'b5d95e34-14f0-11f0-a1e8-0e8d4396c6f5',\n",
       " 'b5d95e52-14f0-11f0-a1e8-0e8d4396c6f5',\n",
       " 'b5d95e70-14f0-11f0-a1e8-0e8d4396c6f5',\n",
       " 'b5d95e8e-14f0-11f0-a1e8-0e8d4396c6f5',\n",
       " 'b5d95eac-14f0-11f0-a1e8-0e8d4396c6f5',\n",
       " 'b5d95eca-14f0-11f0-a1e8-0e8d4396c6f5',\n",
       " 'b5d95ee8-14f0-11f0-a1e8-0e8d4396c6f5',\n",
       " 'b5d95efc-14f0-11f0-a1e8-0e8d4396c6f5',\n",
       " 'b5d95f1a-14f0-11f0-a1e8-0e8d4396c6f5',\n",
       " 'b5d95f38-14f0-11f0-a1e8-0e8d4396c6f5',\n",
       " 'b5d95f56-14f0-11f0-a1e8-0e8d4396c6f5',\n",
       " 'b5d95f74-14f0-11f0-a1e8-0e8d4396c6f5',\n",
       " 'b5d95f92-14f0-11f0-a1e8-0e8d4396c6f5',\n",
       " 'b5d95fb0-14f0-11f0-a1e8-0e8d4396c6f5',\n",
       " 'b5d95fce-14f0-11f0-a1e8-0e8d4396c6f5',\n",
       " 'b5d95fec-14f0-11f0-a1e8-0e8d4396c6f5',\n",
       " 'b5d9600a-14f0-11f0-a1e8-0e8d4396c6f5',\n",
       " 'b5d96028-14f0-11f0-a1e8-0e8d4396c6f5',\n",
       " 'b5d96046-14f0-11f0-a1e8-0e8d4396c6f5',\n",
       " 'b5d96064-14f0-11f0-a1e8-0e8d4396c6f5',\n",
       " 'b5d96082-14f0-11f0-a1e8-0e8d4396c6f5',\n",
       " 'b5d960a0-14f0-11f0-a1e8-0e8d4396c6f5',\n",
       " 'b5d960be-14f0-11f0-a1e8-0e8d4396c6f5',\n",
       " 'b5d960dc-14f0-11f0-a1e8-0e8d4396c6f5',\n",
       " 'b5d960fa-14f0-11f0-a1e8-0e8d4396c6f5',\n",
       " 'b5d96118-14f0-11f0-a1e8-0e8d4396c6f5',\n",
       " 'b5d96136-14f0-11f0-a1e8-0e8d4396c6f5',\n",
       " 'b5d96154-14f0-11f0-a1e8-0e8d4396c6f5',\n",
       " 'b5d96172-14f0-11f0-a1e8-0e8d4396c6f5',\n",
       " 'b5d96190-14f0-11f0-a1e8-0e8d4396c6f5',\n",
       " 'b5d961ae-14f0-11f0-a1e8-0e8d4396c6f5',\n",
       " 'b5d961cc-14f0-11f0-a1e8-0e8d4396c6f5',\n",
       " 'b5d961ea-14f0-11f0-a1e8-0e8d4396c6f5',\n",
       " 'b5d96212-14f0-11f0-a1e8-0e8d4396c6f5',\n",
       " 'b5d96230-14f0-11f0-a1e8-0e8d4396c6f5',\n",
       " 'b5d9624e-14f0-11f0-a1e8-0e8d4396c6f5',\n",
       " 'b5d9626c-14f0-11f0-a1e8-0e8d4396c6f5',\n",
       " 'b5d9628a-14f0-11f0-a1e8-0e8d4396c6f5',\n",
       " 'b5d962a8-14f0-11f0-a1e8-0e8d4396c6f5',\n",
       " 'b5d962c6-14f0-11f0-a1e8-0e8d4396c6f5',\n",
       " 'b5d962e4-14f0-11f0-a1e8-0e8d4396c6f5',\n",
       " 'b5d96302-14f0-11f0-a1e8-0e8d4396c6f5',\n",
       " 'b5d96320-14f0-11f0-a1e8-0e8d4396c6f5',\n",
       " 'b5d9633e-14f0-11f0-a1e8-0e8d4396c6f5',\n",
       " 'b5d9635c-14f0-11f0-a1e8-0e8d4396c6f5',\n",
       " 'b5d9638e-14f0-11f0-a1e8-0e8d4396c6f5',\n",
       " 'b5d963ac-14f0-11f0-a1e8-0e8d4396c6f5',\n",
       " 'b5d963ca-14f0-11f0-a1e8-0e8d4396c6f5',\n",
       " 'b5d963e8-14f0-11f0-a1e8-0e8d4396c6f5',\n",
       " 'b5d96406-14f0-11f0-a1e8-0e8d4396c6f5',\n",
       " 'b5d96424-14f0-11f0-a1e8-0e8d4396c6f5',\n",
       " 'b5d96442-14f0-11f0-a1e8-0e8d4396c6f5',\n",
       " 'b5d96460-14f0-11f0-a1e8-0e8d4396c6f5',\n",
       " 'b5d9647e-14f0-11f0-a1e8-0e8d4396c6f5',\n",
       " 'b5d9649c-14f0-11f0-a1e8-0e8d4396c6f5',\n",
       " 'b5d964c4-14f0-11f0-a1e8-0e8d4396c6f5',\n",
       " 'b5d964e2-14f0-11f0-a1e8-0e8d4396c6f5',\n",
       " 'b5d96500-14f0-11f0-a1e8-0e8d4396c6f5',\n",
       " 'b5d9651e-14f0-11f0-a1e8-0e8d4396c6f5',\n",
       " 'b5d9653c-14f0-11f0-a1e8-0e8d4396c6f5',\n",
       " 'b5d9655a-14f0-11f0-a1e8-0e8d4396c6f5',\n",
       " 'b5d96578-14f0-11f0-a1e8-0e8d4396c6f5',\n",
       " 'b5d96596-14f0-11f0-a1e8-0e8d4396c6f5',\n",
       " 'b5d965b4-14f0-11f0-a1e8-0e8d4396c6f5',\n",
       " 'b5d965d2-14f0-11f0-a1e8-0e8d4396c6f5',\n",
       " 'b5d965f0-14f0-11f0-a1e8-0e8d4396c6f5',\n",
       " 'b5d9660e-14f0-11f0-a1e8-0e8d4396c6f5',\n",
       " 'b5d9662c-14f0-11f0-a1e8-0e8d4396c6f5',\n",
       " 'b5d96654-14f0-11f0-a1e8-0e8d4396c6f5',\n",
       " 'b5d96672-14f0-11f0-a1e8-0e8d4396c6f5',\n",
       " 'b5d96686-14f0-11f0-a1e8-0e8d4396c6f5',\n",
       " 'b5d966a4-14f0-11f0-a1e8-0e8d4396c6f5',\n",
       " 'b5d966c2-14f0-11f0-a1e8-0e8d4396c6f5',\n",
       " 'b5d966e0-14f0-11f0-a1e8-0e8d4396c6f5',\n",
       " 'b5d966fe-14f0-11f0-a1e8-0e8d4396c6f5',\n",
       " 'b5d9671c-14f0-11f0-a1e8-0e8d4396c6f5',\n",
       " 'b5d9673a-14f0-11f0-a1e8-0e8d4396c6f5',\n",
       " 'b5d96758-14f0-11f0-a1e8-0e8d4396c6f5',\n",
       " 'b5d9679e-14f0-11f0-a1e8-0e8d4396c6f5',\n",
       " 'b5d967bc-14f0-11f0-a1e8-0e8d4396c6f5',\n",
       " 'b5d967da-14f0-11f0-a1e8-0e8d4396c6f5',\n",
       " 'b5d967f8-14f0-11f0-a1e8-0e8d4396c6f5',\n",
       " 'b5d96816-14f0-11f0-a1e8-0e8d4396c6f5',\n",
       " 'b5d96834-14f0-11f0-a1e8-0e8d4396c6f5']"
      ]
     },
     "execution_count": 5,
     "metadata": {},
     "output_type": "execute_result"
    }
   ],
   "source": [
    "# get embeddings and store them in the Deep lake \n",
    "embeddings = OpenAIEmbeddings(model=\"text-embedding-ada-002\")\n",
    "\n",
    "my_activeloop_org_id = \"charnvardhan\"\n",
    "my_activeloop_database_name = \"LangChainCustomerSupport\"\n",
    "dataset_path = f\"hub//{my_activeloop_org_id}/{my_activeloop_database_name}\"\n",
    "db = DeepLake(dataset_path=dataset_path, embedding_function=embeddings)\n",
    "\n",
    "db.add_documents(docs)"
   ]
  },
  {
   "cell_type": "code",
   "execution_count": 12,
   "id": "6126f4ad",
   "metadata": {},
   "outputs": [
    {
     "name": "stdout",
     "output_type": "stream",
     "text": [
      "Home > Tech > How to Check Disk Usage in Linux (4 Methods)\n",
      "\n",
      "How to Check Disk Usage in Linux (4 Methods)\n",
      "\n",
      "Beebom Staff\n",
      "\n",
      "Updated: December 19, 2023\n",
      "\n",
      "Comments 0\n",
      "\n",
      "Share\n",
      "\n",
      "Copied\n",
      "\n",
      "There may be times when you need to download some important files or transfer some photos to your Linux system, but face a problem of insufficient disk space. You head over to your file manager to delete the large files which you no longer require, but you have no clue which of them are occupying most of your disk space. In this article, we will show some easy methods to check disk usage in Linux from both the terminal and the GUI application.\n",
      "\n",
      "Table of Contents\n",
      "\n",
      "Check Disk Space Using the df Command\n",
      "\n",
      "In Linux, there are many commands to check disk usage, the most common being the df command. The df stands for “Disk Filesystem” in the command, which is a handy way to check the current disk usage and the available disk space in Linux. The syntax for the df command in Linux is as follows:\n",
      "\n",
      "df <options> <file_system>\n"
     ]
    }
   ],
   "source": [
    "# Retrieve the most relevant document.\n",
    "query = \"how to check the disk usage in Linux\"\n",
    "docs = db.similarity_search(query) # k to get top k from the similar docs\n",
    "print(docs[0].page_content)"
   ]
  },
  {
   "cell_type": "code",
   "execution_count": 13,
   "id": "10ae2986",
   "metadata": {},
   "outputs": [
    {
     "data": {
      "text/plain": [
       "4"
      ]
     },
     "execution_count": 13,
     "metadata": {},
     "output_type": "execute_result"
    }
   ],
   "source": [
    "len(docs)"
   ]
  },
  {
   "cell_type": "markdown",
   "id": "0ad9045e",
   "metadata": {},
   "source": [
    "## Craft a prompt for using the suggested strategies"
   ]
  },
  {
   "cell_type": "code",
   "execution_count": 14,
   "id": "a8ac03e0",
   "metadata": {},
   "outputs": [],
   "source": [
    "template = \"\"\"You are an exceptional customer support chathot that gently answer questions.\n",
    "\n",
    "you know the follwing context information.\n",
    "\n",
    "{chunks_formatted}\n",
    "\n",
    "Answer the following question from a customer. Use only information from the previous context information.\n",
    "Do not invent stuff.\n",
    "\n",
    "question: {query}\n",
    "\n",
    "Answer:\n",
    "\"\"\""
   ]
  },
  {
   "cell_type": "code",
   "execution_count": 15,
   "id": "a4214d97",
   "metadata": {},
   "outputs": [],
   "source": [
    "prompt = PromptTemplate(\n",
    "    input_variables=[\"chunks_formatted\", \"query\"],\n",
    "    template=template\n",
    ")"
   ]
  },
  {
   "cell_type": "markdown",
   "id": "9dc11c81",
   "metadata": {},
   "source": [
    "## Generate answers from the LLM"
   ]
  },
  {
   "cell_type": "code",
   "execution_count": 23,
   "id": "83ad8d52",
   "metadata": {},
   "outputs": [
    {
     "name": "stdout",
     "output_type": "stream",
     "text": [
      "2\n",
      "You are an exceptional customer support chathot that gently answer questions.\n",
      "\n",
      "you know the follwing context information.\n",
      "\n",
      "Home > Tech > How to Check Disk Usage in Linux (4 Methods)\n",
      "\n",
      "How to Check Disk Usage in Linux (4 Methods)\n",
      "\n",
      "Beebom Staff\n",
      "\n",
      "Updated: December 19, 2023\n",
      "\n",
      "Comments 0\n",
      "\n",
      "Share\n",
      "\n",
      "Copied\n",
      "\n",
      "There may be times when you need to download some important files or transfer some photos to your Linux system, but face a problem of insufficient disk space. You head over to your file manager to delete the large files which you no longer require, but you have no clue which of them are occupying most of your disk space. In this article, we will show some easy methods to check disk usage in Linux from both the terminal and the GUI application.\n",
      "\n",
      "Table of Contents\n",
      "\n",
      "Check Disk Space Using the df Command\n",
      "\n",
      "In Linux, there are many commands to check disk usage, the most common being the df command. The df stands for “Disk Filesystem” in the command, which is a handy way to check the current disk usage and the available disk space in Linux. The syntax for the df command in Linux is as follows:\n",
      "\n",
      "df <options> <file_system>\n",
      "\n",
      "The command line output for various disk usage commands can be hard for some people to understand. So there are some GUI alternatives that make the task of monitoring disk usage easy. Some common GUI tools to monitor disk usage are the GDU Disk Usage Analyzer and the Gnome Disks Tool,which can be easily installed using the following command:\n",
      "\n",
      "Installing disk usage analyzer:\n",
      "\n",
      "sudo snap install gdu-disk-usage-analyzer\n",
      "\n",
      "Installing disk-utility tool:\n",
      "\n",
      "sudo apt-get -y install gnome-disk-utility\n",
      "\n",
      "Check Disk Usage Using Gnome Disk Tool\n",
      "\n",
      "The Gnome disk utility tool is generally used to format storage partitions to a specific type. In the default view, all the storage partitions are shown.\n",
      "\n",
      "To know details about a partition such as the device name, file system type, available space, and more, you need to click on the partition’s name. The disk utility tool is a useful tool, but you can lose all your important data if used carelessly.\n",
      "\n",
      "Check Disk Usage Using Disk Usage Analyzer Tool\n",
      "\n",
      "Answer the following question from a customer. Use only information from the previous context information.\n",
      "Do not invent stuff.\n",
      "\n",
      "question: How to check disk usage in Linux\n",
      "\n",
      "Answer:\n",
      "\n"
     ]
    }
   ],
   "source": [
    "# The pipeline\n",
    "\n",
    "query = \"How to check disk usage in Linux\"\n",
    "\n",
    "#retrieve relevant chunks\n",
    "docs = db.similarity_search(query, k=2)\n",
    "print(len(docs))\n",
    "retrieved_chunks = [doc.page_content for doc in docs]\n",
    "\n",
    "#format the prompt\n",
    "chunks_formatted = \"\\n\\n\".join(retrieved_chunks)\n",
    "prompt_format = prompt.format(chunks_formatted=chunks_formatted, query=query)\n",
    "\n",
    "print(prompt_format)"
   ]
  },
  {
   "cell_type": "code",
   "execution_count": 26,
   "id": "61a2e547",
   "metadata": {},
   "outputs": [
    {
     "name": "stdout",
     "output_type": "stream",
     "text": [
      "content='To check disk usage in Linux, you can use the df command in the terminal. The df command stands for \"Disk Filesystem\" and allows you to check the current disk usage and available disk space on your system. Additionally, you can also use GUI tools like the GDU Disk Usage Analyzer and the Gnome Disks Tool to easily monitor disk usage in a more user-friendly way. These tools can be installed using the provided commands.' additional_kwargs={} example=False\n"
     ]
    }
   ],
   "source": [
    "# generate answer\n",
    "llm = ChatOpenAI(model=\"gpt-3.5-turbo\", temperature=0)\n",
    "messages = [HumanMessage(content=prompt_format)]\n",
    "answer = llm(messages)\n",
    "print(answer)"
   ]
  }
 ],
 "metadata": {
  "kernelspec": {
   "display_name": "LLM",
   "language": "python",
   "name": "python3"
  },
  "language_info": {
   "codemirror_mode": {
    "name": "ipython",
    "version": 3
   },
   "file_extension": ".py",
   "mimetype": "text/x-python",
   "name": "python",
   "nbconvert_exporter": "python",
   "pygments_lexer": "ipython3",
   "version": "3.10.16"
  }
 },
 "nbformat": 4,
 "nbformat_minor": 5
}
