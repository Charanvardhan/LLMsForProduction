{
 "cells": [
  {
   "cell_type": "code",
   "execution_count": 1,
   "id": "f87e7acc",
   "metadata": {},
   "outputs": [
    {
     "data": {
      "text/plain": [
       "True"
      ]
     },
     "execution_count": 1,
     "metadata": {},
     "output_type": "execute_result"
    }
   ],
   "source": [
    "from dotenv import load_dotenv\n",
    "load_dotenv()"
   ]
  },
  {
   "cell_type": "code",
   "execution_count": 2,
   "id": "d60e2c8a",
   "metadata": {},
   "outputs": [
    {
     "name": "stderr",
     "output_type": "stream",
     "text": [
      "/Users/charanmannuru/miniconda3/envs/LLM/lib/python3.10/site-packages/deeplake/util/check_latest_version.py:32: UserWarning: A newer version of deeplake (4.1.18) is available. It's recommended that you update to the latest version using `pip install -U deeplake`.\n",
      "  warnings.warn(\n"
     ]
    }
   ],
   "source": [
    "from langchain.embeddings.openai import OpenAIEmbeddings # to get emb\n",
    "from langchain.vectorstores import DeepLake  # vector store\n",
    "from langchain.text_splitter import CharacterTextSplitter #split large content based on char count\n",
    "from langchain import OpenAI\n",
    "from langchain.document_loaders import SeleniumURLLoader \n",
    "from langchain import PromptTemplate"
   ]
  },
  {
   "cell_type": "code",
   "execution_count": 3,
   "id": "18fac74b",
   "metadata": {},
   "outputs": [],
   "source": [
    "urls = ['https://beebom.com/what-is-nft-explained/',\n",
    "    'https://beebom.com/how-delete-spotify-account/',\n",
    "    'https://beebom.com/how-download-gif-twitter/',\n",
    "    'https://beebom.com/how-use-chatgpt-linux-terminal/',\n",
    "    'https://beebom.com/how-delete-spotify-account/',\n",
    "    'https://beebom.com/how-save-instagram-story-with-music/',\n",
    "    'https://beebom.com/how-install-pip-windows/',\n",
    "    'https://beebom.com/how-check-disk-usage-linux/']"
   ]
  },
  {
   "cell_type": "markdown",
   "id": "49d436d5",
   "metadata": {},
   "source": [
    "### Split the documents into chunks and compute their embeddings.\n"
   ]
  },
  {
   "cell_type": "code",
   "execution_count": 4,
   "id": "9d0aa611",
   "metadata": {},
   "outputs": [
    {
     "name": "stdout",
     "output_type": "stream",
     "text": [
      "8\n",
      "104\n"
     ]
    }
   ],
   "source": [
    "loader = SeleniumURLLoader(urls=urls)\n",
    "raw_docs = loader.load()\n",
    "print(len(raw_docs))\n",
    "\n",
    "# split the raw docs into chunks based on chunk size\n",
    "text_splitter = CharacterTextSplitter(chunk_size = 1000, chunk_overlap=0)\n",
    "docs = text_splitter.split_documents(raw_docs)\n",
    "print(len(docs))\n",
    "\n"
   ]
  },
  {
   "cell_type": "code",
   "execution_count": 5,
   "id": "bfb54565",
   "metadata": {},
   "outputs": [
    {
     "name": "stderr",
     "output_type": "stream",
     "text": [
      "Creating 104 embeddings in 1 batches of size 104:: 100%|██████████| 1/1 [00:01<00:00,  1.91s/it]"
     ]
    },
    {
     "name": "stdout",
     "output_type": "stream",
     "text": [
      "Dataset(path='hub//charnvardhan/LangChainCustomerSupport', tensors=['text', 'metadata', 'embedding', 'id'])\n",
      "\n",
      "  tensor      htype       shape      dtype  compression\n",
      "  -------    -------     -------    -------  ------- \n",
      "   text       text      (104, 1)      str     None   \n",
      " metadata     json      (104, 1)      str     None   \n",
      " embedding  embedding  (104, 1536)  float32   None   \n",
      "    id        text      (104, 1)      str     None   \n"
     ]
    },
    {
     "name": "stderr",
     "output_type": "stream",
     "text": [
      "\n"
     ]
    },
    {
     "data": {
      "text/plain": [
       "['b5d95ae2-14f0-11f0-a1e8-0e8d4396c6f5',\n",
       " 'b5d95bd2-14f0-11f0-a1e8-0e8d4396c6f5',\n",
       " 'b5d95c04-14f0-11f0-a1e8-0e8d4396c6f5',\n",
       " 'b5d95c2c-14f0-11f0-a1e8-0e8d4396c6f5',\n",
       " 'b5d95c4a-14f0-11f0-a1e8-0e8d4396c6f5',\n",
       " 'b5d95c68-14f0-11f0-a1e8-0e8d4396c6f5',\n",
       " 'b5d95c90-14f0-11f0-a1e8-0e8d4396c6f5',\n",
       " 'b5d95cae-14f0-11f0-a1e8-0e8d4396c6f5',\n",
       " 'b5d95ccc-14f0-11f0-a1e8-0e8d4396c6f5',\n",
       " 'b5d95cea-14f0-11f0-a1e8-0e8d4396c6f5',\n",
       " 'b5d95d08-14f0-11f0-a1e8-0e8d4396c6f5',\n",
       " 'b5d95d26-14f0-11f0-a1e8-0e8d4396c6f5',\n",
       " 'b5d95d44-14f0-11f0-a1e8-0e8d4396c6f5',\n",
       " 'b5d95d62-14f0-11f0-a1e8-0e8d4396c6f5',\n",
       " 'b5d95d80-14f0-11f0-a1e8-0e8d4396c6f5',\n",
       " 'b5d95d9e-14f0-11f0-a1e8-0e8d4396c6f5',\n",
       " 'b5d95dbc-14f0-11f0-a1e8-0e8d4396c6f5',\n",
       " 'b5d95dda-14f0-11f0-a1e8-0e8d4396c6f5',\n",
       " 'b5d95df8-14f0-11f0-a1e8-0e8d4396c6f5',\n",
       " 'b5d95e16-14f0-11f0-a1e8-0e8d4396c6f5',\n",
       " 'b5d95e34-14f0-11f0-a1e8-0e8d4396c6f5',\n",
       " 'b5d95e52-14f0-11f0-a1e8-0e8d4396c6f5',\n",
       " 'b5d95e70-14f0-11f0-a1e8-0e8d4396c6f5',\n",
       " 'b5d95e8e-14f0-11f0-a1e8-0e8d4396c6f5',\n",
       " 'b5d95eac-14f0-11f0-a1e8-0e8d4396c6f5',\n",
       " 'b5d95eca-14f0-11f0-a1e8-0e8d4396c6f5',\n",
       " 'b5d95ee8-14f0-11f0-a1e8-0e8d4396c6f5',\n",
       " 'b5d95efc-14f0-11f0-a1e8-0e8d4396c6f5',\n",
       " 'b5d95f1a-14f0-11f0-a1e8-0e8d4396c6f5',\n",
       " 'b5d95f38-14f0-11f0-a1e8-0e8d4396c6f5',\n",
       " 'b5d95f56-14f0-11f0-a1e8-0e8d4396c6f5',\n",
       " 'b5d95f74-14f0-11f0-a1e8-0e8d4396c6f5',\n",
       " 'b5d95f92-14f0-11f0-a1e8-0e8d4396c6f5',\n",
       " 'b5d95fb0-14f0-11f0-a1e8-0e8d4396c6f5',\n",
       " 'b5d95fce-14f0-11f0-a1e8-0e8d4396c6f5',\n",
       " 'b5d95fec-14f0-11f0-a1e8-0e8d4396c6f5',\n",
       " 'b5d9600a-14f0-11f0-a1e8-0e8d4396c6f5',\n",
       " 'b5d96028-14f0-11f0-a1e8-0e8d4396c6f5',\n",
       " 'b5d96046-14f0-11f0-a1e8-0e8d4396c6f5',\n",
       " 'b5d96064-14f0-11f0-a1e8-0e8d4396c6f5',\n",
       " 'b5d96082-14f0-11f0-a1e8-0e8d4396c6f5',\n",
       " 'b5d960a0-14f0-11f0-a1e8-0e8d4396c6f5',\n",
       " 'b5d960be-14f0-11f0-a1e8-0e8d4396c6f5',\n",
       " 'b5d960dc-14f0-11f0-a1e8-0e8d4396c6f5',\n",
       " 'b5d960fa-14f0-11f0-a1e8-0e8d4396c6f5',\n",
       " 'b5d96118-14f0-11f0-a1e8-0e8d4396c6f5',\n",
       " 'b5d96136-14f0-11f0-a1e8-0e8d4396c6f5',\n",
       " 'b5d96154-14f0-11f0-a1e8-0e8d4396c6f5',\n",
       " 'b5d96172-14f0-11f0-a1e8-0e8d4396c6f5',\n",
       " 'b5d96190-14f0-11f0-a1e8-0e8d4396c6f5',\n",
       " 'b5d961ae-14f0-11f0-a1e8-0e8d4396c6f5',\n",
       " 'b5d961cc-14f0-11f0-a1e8-0e8d4396c6f5',\n",
       " 'b5d961ea-14f0-11f0-a1e8-0e8d4396c6f5',\n",
       " 'b5d96212-14f0-11f0-a1e8-0e8d4396c6f5',\n",
       " 'b5d96230-14f0-11f0-a1e8-0e8d4396c6f5',\n",
       " 'b5d9624e-14f0-11f0-a1e8-0e8d4396c6f5',\n",
       " 'b5d9626c-14f0-11f0-a1e8-0e8d4396c6f5',\n",
       " 'b5d9628a-14f0-11f0-a1e8-0e8d4396c6f5',\n",
       " 'b5d962a8-14f0-11f0-a1e8-0e8d4396c6f5',\n",
       " 'b5d962c6-14f0-11f0-a1e8-0e8d4396c6f5',\n",
       " 'b5d962e4-14f0-11f0-a1e8-0e8d4396c6f5',\n",
       " 'b5d96302-14f0-11f0-a1e8-0e8d4396c6f5',\n",
       " 'b5d96320-14f0-11f0-a1e8-0e8d4396c6f5',\n",
       " 'b5d9633e-14f0-11f0-a1e8-0e8d4396c6f5',\n",
       " 'b5d9635c-14f0-11f0-a1e8-0e8d4396c6f5',\n",
       " 'b5d9638e-14f0-11f0-a1e8-0e8d4396c6f5',\n",
       " 'b5d963ac-14f0-11f0-a1e8-0e8d4396c6f5',\n",
       " 'b5d963ca-14f0-11f0-a1e8-0e8d4396c6f5',\n",
       " 'b5d963e8-14f0-11f0-a1e8-0e8d4396c6f5',\n",
       " 'b5d96406-14f0-11f0-a1e8-0e8d4396c6f5',\n",
       " 'b5d96424-14f0-11f0-a1e8-0e8d4396c6f5',\n",
       " 'b5d96442-14f0-11f0-a1e8-0e8d4396c6f5',\n",
       " 'b5d96460-14f0-11f0-a1e8-0e8d4396c6f5',\n",
       " 'b5d9647e-14f0-11f0-a1e8-0e8d4396c6f5',\n",
       " 'b5d9649c-14f0-11f0-a1e8-0e8d4396c6f5',\n",
       " 'b5d964c4-14f0-11f0-a1e8-0e8d4396c6f5',\n",
       " 'b5d964e2-14f0-11f0-a1e8-0e8d4396c6f5',\n",
       " 'b5d96500-14f0-11f0-a1e8-0e8d4396c6f5',\n",
       " 'b5d9651e-14f0-11f0-a1e8-0e8d4396c6f5',\n",
       " 'b5d9653c-14f0-11f0-a1e8-0e8d4396c6f5',\n",
       " 'b5d9655a-14f0-11f0-a1e8-0e8d4396c6f5',\n",
       " 'b5d96578-14f0-11f0-a1e8-0e8d4396c6f5',\n",
       " 'b5d96596-14f0-11f0-a1e8-0e8d4396c6f5',\n",
       " 'b5d965b4-14f0-11f0-a1e8-0e8d4396c6f5',\n",
       " 'b5d965d2-14f0-11f0-a1e8-0e8d4396c6f5',\n",
       " 'b5d965f0-14f0-11f0-a1e8-0e8d4396c6f5',\n",
       " 'b5d9660e-14f0-11f0-a1e8-0e8d4396c6f5',\n",
       " 'b5d9662c-14f0-11f0-a1e8-0e8d4396c6f5',\n",
       " 'b5d96654-14f0-11f0-a1e8-0e8d4396c6f5',\n",
       " 'b5d96672-14f0-11f0-a1e8-0e8d4396c6f5',\n",
       " 'b5d96686-14f0-11f0-a1e8-0e8d4396c6f5',\n",
       " 'b5d966a4-14f0-11f0-a1e8-0e8d4396c6f5',\n",
       " 'b5d966c2-14f0-11f0-a1e8-0e8d4396c6f5',\n",
       " 'b5d966e0-14f0-11f0-a1e8-0e8d4396c6f5',\n",
       " 'b5d966fe-14f0-11f0-a1e8-0e8d4396c6f5',\n",
       " 'b5d9671c-14f0-11f0-a1e8-0e8d4396c6f5',\n",
       " 'b5d9673a-14f0-11f0-a1e8-0e8d4396c6f5',\n",
       " 'b5d96758-14f0-11f0-a1e8-0e8d4396c6f5',\n",
       " 'b5d9679e-14f0-11f0-a1e8-0e8d4396c6f5',\n",
       " 'b5d967bc-14f0-11f0-a1e8-0e8d4396c6f5',\n",
       " 'b5d967da-14f0-11f0-a1e8-0e8d4396c6f5',\n",
       " 'b5d967f8-14f0-11f0-a1e8-0e8d4396c6f5',\n",
       " 'b5d96816-14f0-11f0-a1e8-0e8d4396c6f5',\n",
       " 'b5d96834-14f0-11f0-a1e8-0e8d4396c6f5']"
      ]
     },
     "execution_count": 5,
     "metadata": {},
     "output_type": "execute_result"
    }
   ],
   "source": [
    "# get embeddings and store them in the Deep lake \n",
    "embeddings = OpenAIEmbeddings(model=\"text-embedding-ada-002\")\n",
    "\n",
    "my_activeloop_org_id = \"charnvardhan\"\n",
    "my_activeloop_database_name = \"LangChainCustomerSupport\"\n",
    "dataset_path = f\"hub//{my_activeloop_org_id}/{my_activeloop_database_name}\"\n",
    "db = DeepLake(dataset_path=dataset_path, embedding_function=embeddings)\n",
    "\n",
    "db.add_documents(docs)"
   ]
  },
  {
   "cell_type": "code",
   "execution_count": 12,
   "id": "6126f4ad",
   "metadata": {},
   "outputs": [
    {
     "name": "stdout",
     "output_type": "stream",
     "text": [
      "Home > Tech > How to Check Disk Usage in Linux (4 Methods)\n",
      "\n",
      "How to Check Disk Usage in Linux (4 Methods)\n",
      "\n",
      "Beebom Staff\n",
      "\n",
      "Updated: December 19, 2023\n",
      "\n",
      "Comments 0\n",
      "\n",
      "Share\n",
      "\n",
      "Copied\n",
      "\n",
      "There may be times when you need to download some important files or transfer some photos to your Linux system, but face a problem of insufficient disk space. You head over to your file manager to delete the large files which you no longer require, but you have no clue which of them are occupying most of your disk space. In this article, we will show some easy methods to check disk usage in Linux from both the terminal and the GUI application.\n",
      "\n",
      "Table of Contents\n",
      "\n",
      "Check Disk Space Using the df Command\n",
      "\n",
      "In Linux, there are many commands to check disk usage, the most common being the df command. The df stands for “Disk Filesystem” in the command, which is a handy way to check the current disk usage and the available disk space in Linux. The syntax for the df command in Linux is as follows:\n",
      "\n",
      "df <options> <file_system>\n"
     ]
    }
   ],
   "source": [
    "# Retrieve the most relevant document.\n",
    "query = \"how to check the disk usage in Linux\"\n",
    "docs = db.similarity_search(query) # k to get top k from the similar docs\n",
    "print(docs[0].page_content)"
   ]
  },
  {
   "cell_type": "code",
   "execution_count": 13,
   "id": "10ae2986",
   "metadata": {},
   "outputs": [
    {
     "data": {
      "text/plain": [
       "4"
      ]
     },
     "execution_count": 13,
     "metadata": {},
     "output_type": "execute_result"
    }
   ],
   "source": [
    "len(docs)"
   ]
  },
  {
   "cell_type": "code",
   "execution_count": null,
   "id": "a8ac03e0",
   "metadata": {},
   "outputs": [],
   "source": []
  }
 ],
 "metadata": {
  "kernelspec": {
   "display_name": "LLM",
   "language": "python",
   "name": "python3"
  },
  "language_info": {
   "codemirror_mode": {
    "name": "ipython",
    "version": 3
   },
   "file_extension": ".py",
   "mimetype": "text/x-python",
   "name": "python",
   "nbconvert_exporter": "python",
   "pygments_lexer": "ipython3",
   "version": "3.10.16"
  }
 },
 "nbformat": 4,
 "nbformat_minor": 5
}
