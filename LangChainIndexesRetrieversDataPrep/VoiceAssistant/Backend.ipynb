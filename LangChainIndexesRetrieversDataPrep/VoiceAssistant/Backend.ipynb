{
 "cells": [
  {
   "cell_type": "code",
   "execution_count": 29,
   "id": "e3cc22e1",
   "metadata": {},
   "outputs": [],
   "source": [
    "import os \n",
    "import requests\n",
    "from bs4 import BeautifulSoup\n",
    "from langchain.embeddings.openai import OpenAIEmbeddings\n",
    "from langchain.vectorstores import DeepLake\n",
    "from langchain.text_splitter import CharacterTextSplitter\n",
    "from langchain.document_loaders import TextLoader\n",
    "\n",
    "import re\n"
   ]
  },
  {
   "cell_type": "code",
   "execution_count": 30,
   "id": "b7b2a5f5",
   "metadata": {},
   "outputs": [
    {
     "data": {
      "text/plain": [
       "True"
      ]
     },
     "execution_count": 30,
     "metadata": {},
     "output_type": "execute_result"
    }
   ],
   "source": [
    "from dotenv import load_dotenv\n",
    "load_dotenv()"
   ]
  },
  {
   "cell_type": "code",
   "execution_count": 31,
   "id": "bfa94324",
   "metadata": {},
   "outputs": [],
   "source": [
    "my_activeloop_org_id = \"charanvardhan\"\n",
    "my_activeloop_dataset_name = \"VoiceAssistant-embeddings\"\n",
    "dataset_path = f\"hub://{my_activeloop_org_id}/{my_activeloop_dataset_name}\"\n",
    "\n",
    "embeddings = OpenAIEmbeddings(model=\"text-embedding-ada-002\")"
   ]
  },
  {
   "cell_type": "code",
   "execution_count": 32,
   "id": "88782f49",
   "metadata": {},
   "outputs": [],
   "source": [
    "def get_documents_url(url):\n",
    "    return [\n",
    "    '/docs/huggingface_hub/guides/overview',\n",
    "    '/docs/huggingface_hub/guides/download',\n",
    "    '/docs/huggingface_hub/guides/upload',\n",
    "    '/docs/huggingface_hub/guides/hf_file_system',\n",
    "    '/docs/huggingface_hub/guides/repository',\n",
    "    '/docs/huggingface_hub/guides/search',\n",
    "    ]\n",
    "\n",
    "def construct_url(base_url, relative_paath):\n",
    "    return base_url + relative_paath"
   ]
  },
  {
   "cell_type": "code",
   "execution_count": 33,
   "id": "52dc128f",
   "metadata": {},
   "outputs": [],
   "source": [
    "def scrape_page_content(url):\n",
    "\n",
    "    response = requests.get(url)\n",
    "    soup = BeautifulSoup(response.content, 'html.parser')\n",
    "    # Extract the desired content from the page \n",
    "    text = soup.body.text.strip()\n",
    "\n",
    "    # remove none ascii characters\n",
    "    text = re.sub(r'[^\\x00-\\x7F]+', '', text)\n",
    "    text = re.sub(r'\\s+', ' ', text)\n",
    "\n",
    "    return text.strip()\n",
    "\n",
    "def scrape_all_content(base_url, relative_paths, \n",
    "                       filename):\n",
    "    all_text = []\n",
    "    for path in relative_paths:\n",
    "        url = construct_url(base_url, path)\n",
    "        text = scrape_page_content(url)\n",
    "        all_text.append(text)\n",
    "    \n",
    "\n",
    "    with open(filename, 'w', encoding='utf-8') as f:\n",
    "        for item in all_text:\n",
    "            f.write(item + '\\n')\n",
    "        \n",
    "    return all_text"
   ]
  },
  {
   "cell_type": "code",
   "execution_count": 34,
   "id": "701a530a",
   "metadata": {},
   "outputs": [],
   "source": [
    "# load and splitting the text\n",
    "# def load_docs(root_dir, filename):\n",
    "#     docs = []\n",
    "#     try:\n",
    "#         loader = TextLoader(os.path.join(root_dir, filename, encoding='utf-8'))\n",
    "#         docs.extend(loader.load_and_split())\n",
    "    \n",
    "#     except Exception as e:\n",
    "#         pass\n",
    "    \n",
    "#     return docs\n",
    "\n",
    "def load_docs(root_dir, filename):\n",
    "    docs = []\n",
    "    try:\n",
    "        file_path = os.path.join(root_dir, filename)\n",
    "        loader = TextLoader(file_path, encoding='utf-8')  # ✅ fixed encoding\n",
    "        docs = loader.load()  # ✅ use .load()\n",
    "    except Exception as e:\n",
    "        print(f\"Error loading documents: {e}\")  # ✅ helpful error message\n",
    "    return docs\n",
    "\n",
    "def split_docs(docs):\n",
    "    text_splitter = CharacterTextSplitter(chunk_size=1000, chunk_overlap=0)\n",
    "    return text_splitter.split_documents(docs)"
   ]
  },
  {
   "cell_type": "code",
   "execution_count": 35,
   "id": "5f4025bd",
   "metadata": {},
   "outputs": [],
   "source": [
    "def main():\n",
    "    base_url = 'https://huggingface.co'\n",
    "\n",
    "    filename = 'content.txt'\n",
    "    root_dir = './'\n",
    "    relative_paths = get_documents_url(base_url)\n",
    "    content = scrape_all_content(base_url, relative_paths, filename)\n",
    "    docs = load_docs(root_dir, filename)\n",
    "\n",
    "    texts = split_docs(docs)\n",
    "\n",
    "    db = DeepLake(dataset_path=dataset_path, embedding_function=embeddings)\n",
    "    db.add_documents(texts)\n",
    "    os.remove(filename)\n",
    "    "
   ]
  },
  {
   "cell_type": "code",
   "execution_count": 36,
   "id": "1c9ad652",
   "metadata": {},
   "outputs": [
    {
     "name": "stdout",
     "output_type": "stream",
     "text": [
      "Deep Lake Dataset in hub://charanvardhan/VoiceAssistant-embeddings already exists, loading from the storage\n"
     ]
    },
    {
     "name": "stderr",
     "output_type": "stream",
     "text": [
      "/"
     ]
    },
    {
     "name": "stdout",
     "output_type": "stream",
     "text": [
      "Dataset(path='hub://charanvardhan/VoiceAssistant-embeddings', tensors=['embedding', 'id', 'metadata', 'text'])\n",
      "\n",
      "  tensor      htype      shape     dtype  compression\n",
      "  -------    -------    -------   -------  ------- \n",
      " embedding  embedding  (2, 1536)  float32   None   \n",
      "    id        text      (2, 1)      str     None   \n",
      " metadata     json      (2, 1)      str     None   \n",
      "   text       text      (2, 1)      str     None   \n"
     ]
    },
    {
     "name": "stderr",
     "output_type": "stream",
     "text": [
      " \r"
     ]
    }
   ],
   "source": [
    "if __name__ == \"__main__\":\n",
    "    main()"
   ]
  },
  {
   "cell_type": "code",
   "execution_count": null,
   "id": "f873e361",
   "metadata": {},
   "outputs": [],
   "source": []
  },
  {
   "cell_type": "code",
   "execution_count": null,
   "id": "ff3dd0d6",
   "metadata": {},
   "outputs": [],
   "source": []
  }
 ],
 "metadata": {
  "kernelspec": {
   "display_name": "VA",
   "language": "python",
   "name": "python3"
  },
  "language_info": {
   "codemirror_mode": {
    "name": "ipython",
    "version": 3
   },
   "file_extension": ".py",
   "mimetype": "text/x-python",
   "name": "python",
   "nbconvert_exporter": "python",
   "pygments_lexer": "ipython3",
   "version": "3.10.16"
  }
 },
 "nbformat": 4,
 "nbformat_minor": 5
}
