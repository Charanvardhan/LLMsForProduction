{
 "cells": [
  {
   "cell_type": "code",
   "execution_count": null,
   "id": "e3cc22e1",
   "metadata": {},
   "outputs": [],
   "source": [
    "import os \n",
    "import requests\n",
    "from bs4 import BeautifulSoup\n",
    "from langchain.embeddings.openai import OpenAIEmbeddings\n",
    "from langchain.vectorstores import DeepLake\n",
    "from langchain.text_splitter import CharacterTextSplitter\n",
    "from langchain.document_loaders import TextLoader\n",
    "\n",
    "import re\n"
   ]
  },
  {
   "cell_type": "code",
   "execution_count": 8,
   "id": "b7b2a5f5",
   "metadata": {},
   "outputs": [
    {
     "data": {
      "text/plain": [
       "True"
      ]
     },
     "execution_count": 8,
     "metadata": {},
     "output_type": "execute_result"
    }
   ],
   "source": [
    "from dotenv import load_dotenv\n",
    "load_dotenv()"
   ]
  },
  {
   "cell_type": "code",
   "execution_count": 10,
   "id": "bfa94324",
   "metadata": {},
   "outputs": [],
   "source": [
    "my_activeloop_org_id = \"charanvardhan\"\n",
    "my_activeloop_dataset_name = \"VoiceAssistant-embeddings\"\n",
    "dataset_path = 'hub://{my_activeloop_org_id}/{my_activeloop_dataset_name}'\n",
    "\n",
    "embeddings = OpenAIEmbeddings(model_name=\"text-embedding-ada-002\")"
   ]
  },
  {
   "cell_type": "code",
   "execution_count": 12,
   "id": "88782f49",
   "metadata": {},
   "outputs": [],
   "source": [
    "def get_documents_url(url):\n",
    "    return [\n",
    "    '/docs/huggingface_hub/guides/overview',\n",
    "    '/docs/huggingface_hub/guides/download',\n",
    "    '/docs/huggingface_hub/guides/upload',\n",
    "    '/docs/huggingface_hub/guides/hf_file_system',\n",
    "    '/docs/huggingface_hub/guides/repository',\n",
    "    '/docs/huggingface_hub/guides/search',\n",
    "    ]\n",
    "\n",
    "def construct_url(base_url, relative_paath):\n",
    "    return base_url + relative_paath"
   ]
  },
  {
   "cell_type": "code",
   "execution_count": 14,
   "id": "52dc128f",
   "metadata": {},
   "outputs": [],
   "source": [
    "def scrape_page_content(url):\n",
    "\n",
    "    response = requests.get(url)\n",
    "    soup = BeautifulSoup(response.content, 'html.parser')\n",
    "    # Extract the desired content from the page \n",
    "    text = soup.body.text.strip()\n",
    "\n",
    "    # remove none ascii characters\n",
    "    text = re.sub(r'[^\\x00-\\x7F]+', '', text)\n",
    "    text = re.sub(r'\\s+', ' ', text)\n",
    "\n",
    "    return text.strip()\n",
    "\n",
    "def scrape_all_content(base_url, relative_paths, \n",
    "                       filename):\n",
    "    all_text = []\n",
    "    for path in relative_paths:\n",
    "        url = construct_full_url(base_url, path)\n",
    "        text = scrape_page_content(url)\n",
    "        all_text.append(text)\n",
    "    \n",
    "\n",
    "    with open(filename, 'w') as f:\n",
    "        f.write('\\n'.join(all_text))\n",
    "        \n",
    "    return all_text"
   ]
  },
  {
   "cell_type": "code",
   "execution_count": null,
   "id": "701a530a",
   "metadata": {},
   "outputs": [],
   "source": []
  }
 ],
 "metadata": {
  "kernelspec": {
   "display_name": "VoiceAssistant",
   "language": "python",
   "name": "python3"
  },
  "language_info": {
   "codemirror_mode": {
    "name": "ipython",
    "version": 3
   },
   "file_extension": ".py",
   "mimetype": "text/x-python",
   "name": "python",
   "nbconvert_exporter": "python",
   "pygments_lexer": "ipython3",
   "version": "3.10.16"
  }
 },
 "nbformat": 4,
 "nbformat_minor": 5
}
