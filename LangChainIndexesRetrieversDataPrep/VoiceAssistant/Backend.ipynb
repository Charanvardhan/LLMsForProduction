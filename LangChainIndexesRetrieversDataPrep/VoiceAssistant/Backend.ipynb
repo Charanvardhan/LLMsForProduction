{
 "cells": [
  {
   "cell_type": "code",
   "execution_count": 1,
   "id": "e3cc22e1",
   "metadata": {},
   "outputs": [
    {
     "name": "stderr",
     "output_type": "stream",
     "text": [
      "/Users/charanmannuru/miniconda3/envs/VA/lib/python3.10/site-packages/deeplake/util/check_latest_version.py:32: UserWarning: A newer version of deeplake (4.1.19) is available. It's recommended that you update to the latest version using `pip install -U deeplake`.\n",
      "  warnings.warn(\n"
     ]
    }
   ],
   "source": [
    "import os \n",
    "import requests\n",
    "from bs4 import BeautifulSoup\n",
    "from langchain.embeddings.openai import OpenAIEmbeddings\n",
    "from langchain.vectorstores import DeepLake\n",
    "from langchain.text_splitter import CharacterTextSplitter\n",
    "from langchain.document_loaders import TextLoader\n",
    "\n",
    "import re\n"
   ]
  },
  {
   "cell_type": "code",
   "execution_count": 2,
   "id": "b7b2a5f5",
   "metadata": {},
   "outputs": [
    {
     "data": {
      "text/plain": [
       "True"
      ]
     },
     "execution_count": 2,
     "metadata": {},
     "output_type": "execute_result"
    }
   ],
   "source": [
    "from dotenv import load_dotenv\n",
    "load_dotenv()"
   ]
  },
  {
   "cell_type": "code",
   "execution_count": 3,
   "id": "bfa94324",
   "metadata": {},
   "outputs": [],
   "source": [
    "my_activeloop_org_id = \"charanvardhan\"\n",
    "my_activeloop_dataset_name = \"VoiceAssistant-embeddings\"\n",
    "dataset_path = f\"hub://{my_activeloop_org_id}/{my_activeloop_dataset_name}\"\n",
    "\n",
    "embeddings = OpenAIEmbeddings(model=\"text-embedding-ada-002\")"
   ]
  },
  {
   "cell_type": "code",
   "execution_count": 4,
   "id": "88782f49",
   "metadata": {},
   "outputs": [],
   "source": [
    "def get_documents_url(url):\n",
    "    return [\n",
    "    '/docs/huggingface_hub/guides/overview',\n",
    "    '/docs/huggingface_hub/guides/download',\n",
    "    '/docs/huggingface_hub/guides/upload',\n",
    "    '/docs/huggingface_hub/guides/hf_file_system',\n",
    "    '/docs/huggingface_hub/guides/repository',\n",
    "    '/docs/huggingface_hub/guides/search',\n",
    "    ]\n",
    "\n",
    "def construct_url(base_url, relative_paath):\n",
    "    return base_url + relative_paath"
   ]
  },
  {
   "cell_type": "code",
   "execution_count": 5,
   "id": "52dc128f",
   "metadata": {},
   "outputs": [],
   "source": [
    "def scrape_page_content(url):\n",
    "\n",
    "    response = requests.get(url)\n",
    "    soup = BeautifulSoup(response.content, 'html.parser')\n",
    "    # Extract the desired content from the page \n",
    "    text = soup.body.text.strip()\n",
    "\n",
    "    # remove none ascii characters\n",
    "    text = re.sub(r'[^\\x00-\\x7F]+', '', text)\n",
    "    text = re.sub(r'\\s+', ' ', text)\n",
    "\n",
    "    return text.strip()\n",
    "\n",
    "def scrape_all_content(base_url, relative_paths, \n",
    "                       filename):\n",
    "    all_text = []\n",
    "    for path in relative_paths:\n",
    "        url = construct_url(base_url, path)\n",
    "        text = scrape_page_content(url)\n",
    "        all_text.append(text)\n",
    "    \n",
    "\n",
    "    with open(filename, 'w', encoding='utf-8') as f:\n",
    "        for item in all_text:\n",
    "            f.write(item + '\\n')\n",
    "        \n",
    "    return all_text"
   ]
  },
  {
   "cell_type": "code",
   "execution_count": 6,
   "id": "701a530a",
   "metadata": {},
   "outputs": [],
   "source": [
    "# load and splitting the text\n",
    "# def load_docs(root_dir, filename):\n",
    "#     docs = []\n",
    "#     try:\n",
    "#         loader = TextLoader(os.path.join(root_dir, filename, encoding='utf-8'))\n",
    "#         docs.extend(loader.load_and_split())\n",
    "    \n",
    "#     except Exception as e:\n",
    "#         pass\n",
    "    \n",
    "#     return docs\n",
    "\n",
    "def load_docs(root_dir, filename):\n",
    "    docs = []\n",
    "    try:\n",
    "        file_path = os.path.join(root_dir, filename)\n",
    "        loader = TextLoader(file_path, encoding='utf-8')  # ✅ fixed encoding\n",
    "        docs = loader.load()  # ✅ use .load()\n",
    "    except Exception as e:\n",
    "        print(f\"Error loading documents: {e}\")  # ✅ helpful error message\n",
    "    return docs\n",
    "\n",
    "def split_docs(docs):\n",
    "    text_splitter = CharacterTextSplitter(chunk_size=1000, chunk_overlap=0)\n",
    "    return text_splitter.split_documents(docs)"
   ]
  },
  {
   "cell_type": "code",
   "execution_count": null,
   "id": "5f4025bd",
   "metadata": {},
   "outputs": [],
   "source": [
    "def main():\n",
    "    base_url = 'https://huggingface.co'\n",
    "\n",
    "    filename = 'content.txt'\n",
    "    root_dir = './'\n",
    "    relative_paths = get_documents_url(base_url)\n",
    "    content = scrape_all_content(base_url, relative_paths, filename)\n",
    "    docs = load_docs(root_dir, filename)\n",
    "\n",
    "    texts = split_docs(docs)\n",
    "\n",
    "    # db = DeepLake(dataset_path=dataset_path, embedding_function=embeddings)\n",
    "    # db.add_documents(texts)\n",
    "    os.remove(filename)\n",
    "    "
   ]
  },
  {
   "cell_type": "code",
   "execution_count": null,
   "id": "1c9ad652",
   "metadata": {},
   "outputs": [],
   "source": [
    "if __name__ == \"__main__\":\n",
    "    main()"
   ]
  },
  {
   "cell_type": "code",
   "execution_count": 11,
   "id": "f873e361",
   "metadata": {},
   "outputs": [],
   "source": [
    "import openai\n",
    "import streamlit as st\n",
    "from audio_recorder_streamlit import audio_recorder\n",
    "from langchain.chat_models import ChatOpenAI\n",
    "from langchain.chains import RetrievalQA\n",
    "from elevenlabs import generate\n",
    "from streamlit_chat import message"
   ]
  },
  {
   "cell_type": "code",
   "execution_count": 12,
   "id": "ff3dd0d6",
   "metadata": {},
   "outputs": [],
   "source": [
    "TempAudioFile = \"temp.wav\"\n",
    "audioformat = \"audio/wav\"\n",
    "\n"
   ]
  },
  {
   "cell_type": "code",
   "execution_count": 13,
   "id": "bc54aa9f",
   "metadata": {},
   "outputs": [],
   "source": [
    "def load_embeddings():\n",
    "    embeddings = OpenAIEmbeddings()\n",
    "    db = DeepLake(dataset_path=dataset_path, read_only=True, embedding_function=embeddings)\n",
    "\n",
    "    return db\n",
    "\n"
   ]
  },
  {
   "cell_type": "code",
   "execution_count": 14,
   "id": "859f70ad",
   "metadata": {},
   "outputs": [],
   "source": [
    "def transcribe_audio_to_text(audio_file):\n",
    "    try:\n",
    "        with open(audio_file, \"rb\") as f:\n",
    "            response = openai.Audio.transcribe(\n",
    "                model=\"whisper-1\",\n",
    "                file=f,\n",
    "                response_format=\"text\"\n",
    "            )\n",
    "\n",
    "        return response[\"text\"]\n",
    "    except Exception as e:\n",
    "        print(f\"Error transcribing audio: {e}\")\n",
    "        return None\n"
   ]
  },
  {
   "cell_type": "code",
   "execution_count": 19,
   "id": "70bb59b3",
   "metadata": {},
   "outputs": [],
   "source": [
    "def record_and_transcribe():\n",
    "    audioBytes = audio_recorder()\n",
    "    transcripts = None\n",
    "    if audioBytes:\n",
    "        st.audio(audioBytes, format=audioformat)\n",
    "        \n",
    "        with open(TempAudioFile, \"wb\") as f:\n",
    "            f.write(audioBytes)\n",
    "\n",
    "        if st.button(\"Transcribe\"):\n",
    "            transcription = transcribe_audio_to_text(TempAudioFile)\n",
    "            os.remove(TempAudioFile)\n",
    "            display_transcription(transcription)\n",
    "\n",
    "    return transcription"
   ]
  },
  {
   "cell_type": "code",
   "execution_count": 20,
   "id": "fd9b3ab3",
   "metadata": {},
   "outputs": [],
   "source": [
    "def display_transcription(transcription):\n",
    "    if transcription:\n",
    "        st.write(f\"transaction: {transcription}\")\n",
    "        with open(\"audioTranscriopt.txt\", \"w+\") as f:\n",
    "            f.write(transcription)\n",
    "    else:\n",
    "        st.write(\"error transcribing audio\")\n",
    "\n",
    "\n",
    "def get_user_text(transcription):\n",
    "    return st.text_input(\"\", value=transcription if transcription else \"\", key=input)\n",
    "\n"
   ]
  },
  {
   "cell_type": "code",
   "execution_count": null,
   "id": "51337f22",
   "metadata": {},
   "outputs": [],
   "source": []
  }
 ],
 "metadata": {
  "kernelspec": {
   "display_name": "VA",
   "language": "python",
   "name": "python3"
  },
  "language_info": {
   "codemirror_mode": {
    "name": "ipython",
    "version": 3
   },
   "file_extension": ".py",
   "mimetype": "text/x-python",
   "name": "python",
   "nbconvert_exporter": "python",
   "pygments_lexer": "ipython3",
   "version": "3.10.16"
  }
 },
 "nbformat": 4,
 "nbformat_minor": 5
}
