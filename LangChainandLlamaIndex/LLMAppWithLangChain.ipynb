{
 "cells": [
  {
   "cell_type": "code",
   "execution_count": 1,
   "id": "e87753e1",
   "metadata": {},
   "outputs": [
    {
     "name": "stdout",
     "output_type": "stream",
     "text": [
      "Requirement already satisfied: langchain==0.0.208 in /Users/charanmannuru/miniconda3/envs/LLM/lib/python3.10/site-packages (0.0.208)\n",
      "Requirement already satisfied: openai==0.27.8 in /Users/charanmannuru/miniconda3/envs/LLM/lib/python3.10/site-packages (0.27.8)\n",
      "Requirement already satisfied: pypdf in /Users/charanmannuru/miniconda3/envs/LLM/lib/python3.10/site-packages (5.4.0)\n",
      "Requirement already satisfied: PyYAML>=5.4.1 in /Users/charanmannuru/miniconda3/envs/LLM/lib/python3.10/site-packages (from langchain==0.0.208) (6.0.2)\n",
      "Requirement already satisfied: SQLAlchemy<3,>=1.4 in /Users/charanmannuru/miniconda3/envs/LLM/lib/python3.10/site-packages (from langchain==0.0.208) (2.0.40)\n",
      "Requirement already satisfied: aiohttp<4.0.0,>=3.8.3 in /Users/charanmannuru/miniconda3/envs/LLM/lib/python3.10/site-packages (from langchain==0.0.208) (3.11.12)\n",
      "Requirement already satisfied: async-timeout<5.0.0,>=4.0.0 in /Users/charanmannuru/miniconda3/envs/LLM/lib/python3.10/site-packages (from langchain==0.0.208) (4.0.3)\n",
      "Requirement already satisfied: dataclasses-json<0.6.0,>=0.5.7 in /Users/charanmannuru/miniconda3/envs/LLM/lib/python3.10/site-packages (from langchain==0.0.208) (0.5.14)\n",
      "Requirement already satisfied: langchainplus-sdk>=0.0.13 in /Users/charanmannuru/miniconda3/envs/LLM/lib/python3.10/site-packages (from langchain==0.0.208) (0.0.20)\n",
      "Requirement already satisfied: numexpr<3.0.0,>=2.8.4 in /Users/charanmannuru/miniconda3/envs/LLM/lib/python3.10/site-packages (from langchain==0.0.208) (2.10.2)\n",
      "Requirement already satisfied: numpy<2,>=1 in /Users/charanmannuru/miniconda3/envs/LLM/lib/python3.10/site-packages (from langchain==0.0.208) (1.26.4)\n",
      "Requirement already satisfied: openapi-schema-pydantic<2.0,>=1.2 in /Users/charanmannuru/miniconda3/envs/LLM/lib/python3.10/site-packages (from langchain==0.0.208) (1.2.4)\n",
      "Requirement already satisfied: pydantic<2,>=1 in /Users/charanmannuru/miniconda3/envs/LLM/lib/python3.10/site-packages (from langchain==0.0.208) (1.10.21)\n",
      "Requirement already satisfied: requests<3,>=2 in /Users/charanmannuru/miniconda3/envs/LLM/lib/python3.10/site-packages (from langchain==0.0.208) (2.32.3)\n",
      "Requirement already satisfied: tenacity<9.0.0,>=8.1.0 in /Users/charanmannuru/miniconda3/envs/LLM/lib/python3.10/site-packages (from langchain==0.0.208) (8.5.0)\n",
      "Requirement already satisfied: tqdm in /Users/charanmannuru/miniconda3/envs/LLM/lib/python3.10/site-packages (from openai==0.27.8) (4.66.1)\n",
      "Requirement already satisfied: typing_extensions>=4.0 in /Users/charanmannuru/miniconda3/envs/LLM/lib/python3.10/site-packages (from pypdf) (4.12.2)\n",
      "Requirement already satisfied: aiohappyeyeballs>=2.3.0 in /Users/charanmannuru/miniconda3/envs/LLM/lib/python3.10/site-packages (from aiohttp<4.0.0,>=3.8.3->langchain==0.0.208) (2.4.6)\n",
      "Requirement already satisfied: aiosignal>=1.1.2 in /Users/charanmannuru/miniconda3/envs/LLM/lib/python3.10/site-packages (from aiohttp<4.0.0,>=3.8.3->langchain==0.0.208) (1.3.2)\n",
      "Requirement already satisfied: attrs>=17.3.0 in /Users/charanmannuru/miniconda3/envs/LLM/lib/python3.10/site-packages (from aiohttp<4.0.0,>=3.8.3->langchain==0.0.208) (25.1.0)\n",
      "Requirement already satisfied: frozenlist>=1.1.1 in /Users/charanmannuru/miniconda3/envs/LLM/lib/python3.10/site-packages (from aiohttp<4.0.0,>=3.8.3->langchain==0.0.208) (1.5.0)\n",
      "Requirement already satisfied: multidict<7.0,>=4.5 in /Users/charanmannuru/miniconda3/envs/LLM/lib/python3.10/site-packages (from aiohttp<4.0.0,>=3.8.3->langchain==0.0.208) (6.1.0)\n",
      "Requirement already satisfied: propcache>=0.2.0 in /Users/charanmannuru/miniconda3/envs/LLM/lib/python3.10/site-packages (from aiohttp<4.0.0,>=3.8.3->langchain==0.0.208) (0.2.1)\n",
      "Requirement already satisfied: yarl<2.0,>=1.17.0 in /Users/charanmannuru/miniconda3/envs/LLM/lib/python3.10/site-packages (from aiohttp<4.0.0,>=3.8.3->langchain==0.0.208) (1.18.3)\n",
      "Requirement already satisfied: marshmallow<4.0.0,>=3.18.0 in /Users/charanmannuru/miniconda3/envs/LLM/lib/python3.10/site-packages (from dataclasses-json<0.6.0,>=0.5.7->langchain==0.0.208) (3.26.1)\n",
      "Requirement already satisfied: typing-inspect<1,>=0.4.0 in /Users/charanmannuru/miniconda3/envs/LLM/lib/python3.10/site-packages (from dataclasses-json<0.6.0,>=0.5.7->langchain==0.0.208) (0.9.0)\n",
      "Requirement already satisfied: charset-normalizer<4,>=2 in /Users/charanmannuru/miniconda3/envs/LLM/lib/python3.10/site-packages (from requests<3,>=2->langchain==0.0.208) (3.4.1)\n",
      "Requirement already satisfied: idna<4,>=2.5 in /Users/charanmannuru/miniconda3/envs/LLM/lib/python3.10/site-packages (from requests<3,>=2->langchain==0.0.208) (3.10)\n",
      "Requirement already satisfied: urllib3<3,>=1.21.1 in /Users/charanmannuru/miniconda3/envs/LLM/lib/python3.10/site-packages (from requests<3,>=2->langchain==0.0.208) (2.3.0)\n",
      "Requirement already satisfied: certifi>=2017.4.17 in /Users/charanmannuru/miniconda3/envs/LLM/lib/python3.10/site-packages (from requests<3,>=2->langchain==0.0.208) (2025.1.31)\n",
      "Requirement already satisfied: packaging>=17.0 in /Users/charanmannuru/miniconda3/envs/LLM/lib/python3.10/site-packages (from marshmallow<4.0.0,>=3.18.0->dataclasses-json<0.6.0,>=0.5.7->langchain==0.0.208) (24.2)\n",
      "Requirement already satisfied: mypy-extensions>=0.3.0 in /Users/charanmannuru/miniconda3/envs/LLM/lib/python3.10/site-packages (from typing-inspect<1,>=0.4.0->dataclasses-json<0.6.0,>=0.5.7->langchain==0.0.208) (1.0.0)\n"
     ]
    }
   ],
   "source": [
    "!pip install langchain==0.0.208 openai==0.27.8 pypdf"
   ]
  },
  {
   "cell_type": "code",
   "execution_count": 2,
   "id": "443b3074",
   "metadata": {},
   "outputs": [
    {
     "data": {
      "text/plain": [
       "True"
      ]
     },
     "execution_count": 2,
     "metadata": {},
     "output_type": "execute_result"
    }
   ],
   "source": [
    "from dotenv import load_dotenv\n",
    "import os \n",
    "load_dotenv()\n"
   ]
  },
  {
   "cell_type": "code",
   "execution_count": 5,
   "id": "c0193580",
   "metadata": {},
   "outputs": [
    {
     "name": "stdout",
     "output_type": "stream",
     "text": [
      "chat promt: input_variables=['movie_title'] output_parser=None partial_variables={} messages=[SystemMessagePromptTemplate(prompt=PromptTemplate(input_variables=[], output_parser=None, partial_variables={}, template='you are a assistant that helps user find information about movies. ', template_format='f-string', validate_template=True), additional_kwargs={}), HumanMessagePromptTemplate(prompt=PromptTemplate(input_variables=['movie_title'], output_parser=None, partial_variables={}, template='Find information about the movie {movie_title}.', template_format='f-string', validate_template=True), additional_kwargs={})]\n",
      "chat promt: messages=[SystemMessage(content='you are a assistant that helps user find information about movies. ', additional_kwargs={}), HumanMessage(content='Find information about the movie Inception.', additional_kwargs={}, example=False)]\n",
      "chat promt: [SystemMessage(content='you are a assistant that helps user find information about movies. ', additional_kwargs={}), HumanMessage(content='Find information about the movie Inception.', additional_kwargs={}, example=False)]\n",
      "response: content='\"Inception\" is a 2010 science fiction action film written and directed by Christopher Nolan. The film stars Leonardo DiCaprio as a professional thief who steals information by entering the subconscious minds of his targets through their dreams. The ensemble cast also includes Joseph Gordon-Levitt, Ellen Page, Tom Hardy, Ken Watanabe, and Marion Cotillard.\\n\\n\"Inception\" received critical acclaim for its originality, visual effects, and performances. The film won four Academy Awards and was nominated for Best Picture. It is known for its complex narrative structure and thought-provoking themes about reality, dreams, and the nature of consciousness.\\n\\nIf you\\'re interested in watching \"Inception,\" you can find it available for streaming on various platforms or purchase it on DVD or Blu-ray.' additional_kwargs={} example=False\n"
     ]
    }
   ],
   "source": [
    "from langchain.chat_models import ChatOpenAI\n",
    "from langchain.prompts.chat import (\n",
    "    ChatPromptTemplate,\n",
    "    SystemMessagePromptTemplate,\n",
    "    \n",
    "    HumanMessagePromptTemplate\n",
    ")\n",
    "\n",
    "chat = ChatOpenAI(model_name=\"gpt-3.5-turbo\", temperature=0, openai_api_key=os.getenv(\"OPENAI_API_KEY\"))\n",
    "\n",
    "template = \"you are a assistant that helps user find information about movies. \"\n",
    "system_message_prompt = SystemMessagePromptTemplate.from_template(template)\n",
    "human_template = \"Find information about the movie {movie_title}.\"\n",
    "human_message_prompt = HumanMessagePromptTemplate.from_template(human_template)\n",
    "\n",
    "chat_prompt = ChatPromptTemplate.from_messages([system_message_prompt, human_message_prompt])\n",
    "print(f\"chat promt: {chat_prompt}\")\n",
    "\n",
    "print(f\"chat promt: {chat_prompt.format_prompt(movie_title='Inception')}\")\n",
    "print(f\"chat promt: {chat_prompt.format_prompt(movie_title='Inception').to_messages()}\")\n",
    "response = chat(chat_prompt.format_prompt(movie_title=\"Inception\").to_messages())\n",
    "\n",
    "print(f\"response: {response}\")"
   ]
  },
  {
   "cell_type": "code",
   "execution_count": null,
   "id": "f3767ce8",
   "metadata": {},
   "outputs": [],
   "source": []
  }
 ],
 "metadata": {
  "kernelspec": {
   "display_name": "LLM",
   "language": "python",
   "name": "python3"
  },
  "language_info": {
   "codemirror_mode": {
    "name": "ipython",
    "version": 3
   },
   "file_extension": ".py",
   "mimetype": "text/x-python",
   "name": "python",
   "nbconvert_exporter": "python",
   "pygments_lexer": "ipython3",
   "version": "3.10.16"
  }
 },
 "nbformat": 4,
 "nbformat_minor": 5
}
