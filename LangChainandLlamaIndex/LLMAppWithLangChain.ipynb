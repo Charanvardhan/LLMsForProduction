{
 "cells": [
  {
   "cell_type": "code",
   "execution_count": 1,
   "id": "e87753e1",
   "metadata": {},
   "outputs": [
    {
     "name": "stdout",
     "output_type": "stream",
     "text": [
      "Requirement already satisfied: langchain==0.0.208 in /Users/charanmannuru/miniconda3/envs/LLM/lib/python3.10/site-packages (0.0.208)\n",
      "Requirement already satisfied: openai==0.27.8 in /Users/charanmannuru/miniconda3/envs/LLM/lib/python3.10/site-packages (0.27.8)\n",
      "Requirement already satisfied: pypdf in /Users/charanmannuru/miniconda3/envs/LLM/lib/python3.10/site-packages (5.4.0)\n",
      "Requirement already satisfied: PyYAML>=5.4.1 in /Users/charanmannuru/miniconda3/envs/LLM/lib/python3.10/site-packages (from langchain==0.0.208) (6.0.2)\n",
      "Requirement already satisfied: SQLAlchemy<3,>=1.4 in /Users/charanmannuru/miniconda3/envs/LLM/lib/python3.10/site-packages (from langchain==0.0.208) (2.0.40)\n",
      "Requirement already satisfied: aiohttp<4.0.0,>=3.8.3 in /Users/charanmannuru/miniconda3/envs/LLM/lib/python3.10/site-packages (from langchain==0.0.208) (3.11.12)\n",
      "Requirement already satisfied: async-timeout<5.0.0,>=4.0.0 in /Users/charanmannuru/miniconda3/envs/LLM/lib/python3.10/site-packages (from langchain==0.0.208) (4.0.3)\n",
      "Requirement already satisfied: dataclasses-json<0.6.0,>=0.5.7 in /Users/charanmannuru/miniconda3/envs/LLM/lib/python3.10/site-packages (from langchain==0.0.208) (0.5.14)\n",
      "Requirement already satisfied: langchainplus-sdk>=0.0.13 in /Users/charanmannuru/miniconda3/envs/LLM/lib/python3.10/site-packages (from langchain==0.0.208) (0.0.20)\n",
      "Requirement already satisfied: numexpr<3.0.0,>=2.8.4 in /Users/charanmannuru/miniconda3/envs/LLM/lib/python3.10/site-packages (from langchain==0.0.208) (2.10.2)\n",
      "Requirement already satisfied: numpy<2,>=1 in /Users/charanmannuru/miniconda3/envs/LLM/lib/python3.10/site-packages (from langchain==0.0.208) (1.26.4)\n",
      "Requirement already satisfied: openapi-schema-pydantic<2.0,>=1.2 in /Users/charanmannuru/miniconda3/envs/LLM/lib/python3.10/site-packages (from langchain==0.0.208) (1.2.4)\n",
      "Requirement already satisfied: pydantic<2,>=1 in /Users/charanmannuru/miniconda3/envs/LLM/lib/python3.10/site-packages (from langchain==0.0.208) (1.10.21)\n",
      "Requirement already satisfied: requests<3,>=2 in /Users/charanmannuru/miniconda3/envs/LLM/lib/python3.10/site-packages (from langchain==0.0.208) (2.32.3)\n",
      "Requirement already satisfied: tenacity<9.0.0,>=8.1.0 in /Users/charanmannuru/miniconda3/envs/LLM/lib/python3.10/site-packages (from langchain==0.0.208) (8.5.0)\n",
      "Requirement already satisfied: tqdm in /Users/charanmannuru/miniconda3/envs/LLM/lib/python3.10/site-packages (from openai==0.27.8) (4.66.1)\n",
      "Requirement already satisfied: typing_extensions>=4.0 in /Users/charanmannuru/miniconda3/envs/LLM/lib/python3.10/site-packages (from pypdf) (4.12.2)\n",
      "Requirement already satisfied: aiohappyeyeballs>=2.3.0 in /Users/charanmannuru/miniconda3/envs/LLM/lib/python3.10/site-packages (from aiohttp<4.0.0,>=3.8.3->langchain==0.0.208) (2.4.6)\n",
      "Requirement already satisfied: aiosignal>=1.1.2 in /Users/charanmannuru/miniconda3/envs/LLM/lib/python3.10/site-packages (from aiohttp<4.0.0,>=3.8.3->langchain==0.0.208) (1.3.2)\n",
      "Requirement already satisfied: attrs>=17.3.0 in /Users/charanmannuru/miniconda3/envs/LLM/lib/python3.10/site-packages (from aiohttp<4.0.0,>=3.8.3->langchain==0.0.208) (25.1.0)\n",
      "Requirement already satisfied: frozenlist>=1.1.1 in /Users/charanmannuru/miniconda3/envs/LLM/lib/python3.10/site-packages (from aiohttp<4.0.0,>=3.8.3->langchain==0.0.208) (1.5.0)\n",
      "Requirement already satisfied: multidict<7.0,>=4.5 in /Users/charanmannuru/miniconda3/envs/LLM/lib/python3.10/site-packages (from aiohttp<4.0.0,>=3.8.3->langchain==0.0.208) (6.1.0)\n",
      "Requirement already satisfied: propcache>=0.2.0 in /Users/charanmannuru/miniconda3/envs/LLM/lib/python3.10/site-packages (from aiohttp<4.0.0,>=3.8.3->langchain==0.0.208) (0.2.1)\n",
      "Requirement already satisfied: yarl<2.0,>=1.17.0 in /Users/charanmannuru/miniconda3/envs/LLM/lib/python3.10/site-packages (from aiohttp<4.0.0,>=3.8.3->langchain==0.0.208) (1.18.3)\n",
      "Requirement already satisfied: marshmallow<4.0.0,>=3.18.0 in /Users/charanmannuru/miniconda3/envs/LLM/lib/python3.10/site-packages (from dataclasses-json<0.6.0,>=0.5.7->langchain==0.0.208) (3.26.1)\n",
      "Requirement already satisfied: typing-inspect<1,>=0.4.0 in /Users/charanmannuru/miniconda3/envs/LLM/lib/python3.10/site-packages (from dataclasses-json<0.6.0,>=0.5.7->langchain==0.0.208) (0.9.0)\n",
      "Requirement already satisfied: charset-normalizer<4,>=2 in /Users/charanmannuru/miniconda3/envs/LLM/lib/python3.10/site-packages (from requests<3,>=2->langchain==0.0.208) (3.4.1)\n",
      "Requirement already satisfied: idna<4,>=2.5 in /Users/charanmannuru/miniconda3/envs/LLM/lib/python3.10/site-packages (from requests<3,>=2->langchain==0.0.208) (3.10)\n",
      "Requirement already satisfied: urllib3<3,>=1.21.1 in /Users/charanmannuru/miniconda3/envs/LLM/lib/python3.10/site-packages (from requests<3,>=2->langchain==0.0.208) (2.3.0)\n",
      "Requirement already satisfied: certifi>=2017.4.17 in /Users/charanmannuru/miniconda3/envs/LLM/lib/python3.10/site-packages (from requests<3,>=2->langchain==0.0.208) (2025.1.31)\n",
      "Requirement already satisfied: packaging>=17.0 in /Users/charanmannuru/miniconda3/envs/LLM/lib/python3.10/site-packages (from marshmallow<4.0.0,>=3.18.0->dataclasses-json<0.6.0,>=0.5.7->langchain==0.0.208) (24.2)\n",
      "Requirement already satisfied: mypy-extensions>=0.3.0 in /Users/charanmannuru/miniconda3/envs/LLM/lib/python3.10/site-packages (from typing-inspect<1,>=0.4.0->dataclasses-json<0.6.0,>=0.5.7->langchain==0.0.208) (1.0.0)\n"
     ]
    }
   ],
   "source": [
    "!pip install langchain==0.0.208 openai==0.27.8 pypdf"
   ]
  },
  {
   "cell_type": "code",
   "execution_count": 2,
   "id": "443b3074",
   "metadata": {},
   "outputs": [
    {
     "data": {
      "text/plain": [
       "True"
      ]
     },
     "execution_count": 2,
     "metadata": {},
     "output_type": "execute_result"
    }
   ],
   "source": [
    "from dotenv import load_dotenv\n",
    "import os \n",
    "load_dotenv()\n"
   ]
  },
  {
   "cell_type": "code",
   "execution_count": 5,
   "id": "c0193580",
   "metadata": {},
   "outputs": [
    {
     "name": "stdout",
     "output_type": "stream",
     "text": [
      "chat promt: input_variables=['movie_title'] output_parser=None partial_variables={} messages=[SystemMessagePromptTemplate(prompt=PromptTemplate(input_variables=[], output_parser=None, partial_variables={}, template='you are a assistant that helps user find information about movies. ', template_format='f-string', validate_template=True), additional_kwargs={}), HumanMessagePromptTemplate(prompt=PromptTemplate(input_variables=['movie_title'], output_parser=None, partial_variables={}, template='Find information about the movie {movie_title}.', template_format='f-string', validate_template=True), additional_kwargs={})]\n",
      "chat promt: messages=[SystemMessage(content='you are a assistant that helps user find information about movies. ', additional_kwargs={}), HumanMessage(content='Find information about the movie Inception.', additional_kwargs={}, example=False)]\n",
      "chat promt: [SystemMessage(content='you are a assistant that helps user find information about movies. ', additional_kwargs={}), HumanMessage(content='Find information about the movie Inception.', additional_kwargs={}, example=False)]\n",
      "response: content='\"Inception\" is a 2010 science fiction action film written and directed by Christopher Nolan. The film stars Leonardo DiCaprio as a professional thief who steals information by entering the subconscious minds of his targets through their dreams. The ensemble cast also includes Joseph Gordon-Levitt, Ellen Page, Tom Hardy, Ken Watanabe, and Marion Cotillard.\\n\\n\"Inception\" received critical acclaim for its originality, visual effects, and performances. The film won four Academy Awards and was nominated for Best Picture. It is known for its complex narrative structure and thought-provoking themes about reality, dreams, and the nature of consciousness.\\n\\nIf you\\'re interested in watching \"Inception,\" you can find it available for streaming on various platforms or purchase it on DVD or Blu-ray.' additional_kwargs={} example=False\n"
     ]
    }
   ],
   "source": [
    "from langchain.chat_models import ChatOpenAI\n",
    "from langchain.prompts.chat import (\n",
    "    ChatPromptTemplate,\n",
    "    SystemMessagePromptTemplate,\n",
    "    \n",
    "    HumanMessagePromptTemplate\n",
    ")\n",
    "\n",
    "chat = ChatOpenAI(model_name=\"gpt-3.5-turbo\", temperature=0, openai_api_key=os.getenv(\"OPENAI_API_KEY\"))\n",
    "\n",
    "template = \"you are a assistant that helps user find information about movies. \"\n",
    "system_message_prompt = SystemMessagePromptTemplate.from_template(template)\n",
    "human_template = \"Find information about the movie {movie_title}.\"\n",
    "human_message_prompt = HumanMessagePromptTemplate.from_template(human_template)\n",
    "\n",
    "chat_prompt = ChatPromptTemplate.from_messages([system_message_prompt, human_message_prompt])\n",
    "print(f\"chat promt: {chat_prompt}\")\n",
    "\n",
    "print(f\"chat promt: {chat_prompt.format_prompt(movie_title='Inception')}\")\n",
    "print(f\"chat promt: {chat_prompt.format_prompt(movie_title='Inception').to_messages()}\")\n",
    "response = chat(chat_prompt.format_prompt(movie_title=\"Inception\").to_messages())\n",
    "\n",
    "print(f\"response: {response}\")"
   ]
  },
  {
   "cell_type": "markdown",
   "id": "b20f351e",
   "metadata": {},
   "source": [
    "# ==================="
   ]
  },
  {
   "cell_type": "code",
   "execution_count": 6,
   "id": "f3767ce8",
   "metadata": {},
   "outputs": [],
   "source": [
    "from langchain import PromptTemplate\n",
    "from langchain.chains.summarize import load_summarize_chain\n",
    "from langchain.document_loaders import PyPDFLoader"
   ]
  },
  {
   "cell_type": "code",
   "execution_count": 7,
   "id": "8f56f4e9",
   "metadata": {},
   "outputs": [],
   "source": [
    "# initialize the LLM\n",
    "llm = ChatOpenAI(model_name=\"gpt-3.5-turbo\", temperature=0)"
   ]
  },
  {
   "cell_type": "code",
   "execution_count": 8,
   "id": "d5ca7e15",
   "metadata": {},
   "outputs": [],
   "source": [
    "# Load the summarization chain\n",
    "summarize_chain = load_summarize_chain(llm)"
   ]
  },
  {
   "cell_type": "code",
   "execution_count": 12,
   "id": "9ebfbab9",
   "metadata": {},
   "outputs": [
    {
     "name": "stdout",
     "output_type": "stream",
     "text": [
      "document: [Document(page_content='THE ONE    PAGE LINUX MANUALA summary of useful Linux commands\\nVersion 3.0 May 1999 squadron@powerup.com.au\\nStarting & Stopping\\nshutdown -h now Shutdown the system now and do not\\nreboot\\nhalt Stop all processes - same as above\\nshutdown -r 5 Shutdown the system in 5 minutes and\\nreboot\\nshutdown -r now Shutdown the system now and reboot\\nreboot Stop all processes and then reboot - same\\nas above\\nstartx Start the X system\\nAccessing & mounting file systems\\nmount -t iso9660 /dev/cdrom\\n/mnt/cdrom\\nMount the device cdrom\\nand call it cdrom under the\\n/mnt directory\\nmount -t msdos /dev/hdd\\n/mnt/ddrive\\nMount hard disk “d” as a\\nmsdos file system and call\\nit ddrive under the /mnt\\ndirectory\\nmount -t vfat /dev/hda1\\n/mnt/cdrive\\nMount hard disk “a” as a\\nVFAT file system and call it\\ncdrive under the /mnt\\ndirectory\\numount /mnt/cdrom Unmount the cdrom\\nFinding files and text within files\\nfind / -name  fname Starting with the root directory, look\\nfor the file called fname\\nfind / -name ”*fname*” Starting with the root directory, look\\nfor the file containing the string fname\\nlocate missingfilename Find a file called missingfilename\\nusing the locate command - this\\nassumes you have already used the\\ncommand updatedb (see next)\\nupdatedb Create or update the database of files\\non all file systems attached to the linux\\nroot directory\\nwhich missingfilename Show the subdirectory containing the\\nexecutable file  called missingfilename\\ngrep textstringtofind\\n/dir\\nStarting with the directory called dir ,\\nlook for and list all files containing\\ntextstringtofind\\nThe X Window System\\nxvidtune Run the X graphics tuning utility\\nXF86Setup Run the X configuration menu with\\nautomatic probing of graphics cards\\nXconfigurator Run another X configuration menu with\\nautomatic probing of graphics cards\\nxf86config Run a text based X configuration menu\\nMoving, copying, deleting & viewing files\\nls -l List files in current directory using\\nlong format\\nls -F List files in current directory and\\nindicate the file type\\nls -laC List all files in current directory in\\nlong format and display in columns\\nrm name Remove a file or directory called\\nname\\nrm -rf name Kill off an entire directory and all it’s\\nincludes files and subdirectories\\ncp filename\\n/home/dirname\\nCopy the file called filename to the\\n/home/dirname directory\\nmv filename\\n/home/dirname\\nMove the file called filename to the\\n/home/dirname directory\\ncat filetoview Display the file called filetoview\\nman -k keyword Display man pages containing\\nkeyword\\nmore filetoview Display the file called filetoview one\\npage at a time, proceed to next page\\nusing the spacebar\\nhead filetoview Display the first 10 lines of the file\\ncalled filetoview\\nhead -20 filetoview Display the first 20 lines of the file\\ncalled filetoview\\ntail filetoview Display the last 10 lines of the file\\ncalled filetoview\\ntail -20 filetoview Display the last 20 lines of the file\\ncalled filetoview\\nInstalling software for Linux\\nrpm -ihv name.rpm Install the rpm package called name\\nrpm -Uhv name.rpm Upgrade the rpm package called\\nname\\nrpm -e package Delete the rpm package called\\npackage\\nrpm -l package List the files in the package called\\npackage\\nrpm -ql package List the files and state the installed\\nversion of the package called\\npackage\\nrpm -i --force package Reinstall the rpm package called\\nname having deleted parts of it (not\\ndeleting using rpm -e)\\ntar -zxvf archive.tar.gz or\\ntar -zxvf archive.tgz\\nDecompress the files contained in\\nthe zipped and tarred archive called\\narchive\\n./configure Execute the script preparing the\\ninstalled files for compiling\\nUser Administration\\nadduser accountname Create a new user call accountname\\npasswd accountname Give accountname a new password\\nsu Log in as superuser from current login\\nexit Stop being superuser and revert to\\nnormal user\\nLittle known tips and tricks\\nifconfig List ip addresses for all devices on\\nthe machine\\napropos subject List manual pages for subject\\nusermount Executes graphical application for\\nmounting and unmounting file\\nsystems', metadata={'source': 'The One Page Linux Manual.pdf', 'page': 0}), Document(page_content='/sbin/e2fsck hda5 Execute the filesystem check utility\\non partition hda5\\nfdformat /dev/fd0H1440 Format the floppy disk in device fd0\\ntar -cMf /dev/fd0 Backup the contents of the current\\ndirectory and subdirectories to\\nmultiple floppy disks\\ntail -f /var/log/messages Display the last 10 lines of the system\\nlog.\\ncat /var/log/dmesg Display the file containing the boot\\ntime messages - useful for locating\\nproblems. Alternatively, use the\\ndmesg command.\\n* wildcard - represents everything. eg.\\ncp from/* to  will copy all files in the\\nfrom directory to the to directory\\n? Single character wildcard. eg.\\ncp config.? /configs will copy all files\\nbeginning with the name config. in\\nthe current directory to the directory\\nnamed configs.\\n[xyz] Choice of character wildcards. eg.\\nls [xyz]* will list all files in the current\\ndirectory starting with the letter x, y,\\nor z.\\nlinux single At the lilo prompt, start in single user\\nmode. This is useful if you have\\nforgotten your password. Boot in\\nsingle user mode, then run the\\npasswd command.\\nps List current processes\\nkill 123 Kill a specific process eg. kill 123\\nConfiguration files and what they do\\n/etc/profile System wide environment variables for\\nall users.\\n/etc/fstab List of devices and their associated mount\\npoints. Edit this file to add cdroms, DOS\\npartitions and floppy drives at startup.\\n/etc/motd Message of the day broadcast to all users\\nat login.\\netc/rc.d/rc.local Bash script that is executed at the end of\\nlogin process. Similar to autoexec.bat in\\nDOS.\\n/etc/HOSTNAME Conatins full hostname including domain.\\n/etc/cron.* There are 4 directories that automatically\\nexecute all scripts within the directory at\\nintervals of hour, day, week or month.\\n/etc/hosts A list of all know host names and IP\\naddresses on the machine.\\n/etc/httpd/conf Paramters for the Apache web server\\n/etc/inittab Specifies the run level that the machine\\nshould boot into.\\n/etc/resolv.conf Defines IP addresses of DNS servers.\\n/etc/smb.conf Config file for the SAMBA server. Allows\\nfile and print sharing with Microsoft\\nclients.\\n/etc/X11/XF86Confi\\ng\\nConfig file for X-Windows.\\n~/.xinitrc Defines the windows manager loaded by\\nX. ~ refers to user’s home directory.\\nFile permissions\\nIf the command ls -l is given, a long list of file names is\\ndisplayed. The first column in this list details the permissions\\napplying to the file. If a permission is missing for a owner,\\ngroup of other, it is represented by - eg.  drwxr-x—x\\nRead = 4\\nWrite = 2\\nExecute = 1\\nFile permissions are altered by giving the\\nchmod command and the appropriate\\noctal code for each user type. eg\\nchmod 7 6 4 filename will make the file\\ncalled filename R+W+X for the owner,\\nR+W for the group and R for others.\\nchmod 7 5 5 Full permission for the owner, read and\\nexecute access for the group and others.\\nchmod +x filename Make the file called filename executable\\nto all users.\\nX Shortcuts - (mainly for Redhat)\\nControl|Alt  + or - Increase or decrease the screen\\nresolution. eg. from 640x480 to\\n800x600\\nAlt | escape Display list of active windows\\nShift|Control F8 Resize the selected window\\nRight click on desktop\\nbackground\\nDisplay menu\\nShift|Control Altr Refresh the screen\\nShift|Control Altx Start an xterm session\\nPrinting\\n/etc/rc.d/init.d/lpd start Start the print daemon\\n/etc/rc.d/init.d/lpd stop Stop the print daemon\\n/etc/rc.d/init.d/lpd\\nstatus\\nDisplay status of the print daemon\\nlpq Display jobs in print queue\\nlprm Remove jobs from queue\\nlpr Print a file\\nlpc Printer control tool\\nman subject | lpr Print the manual page called subject\\nas plain text\\nman -t subject | lpr Print the manual page called subject\\nas Postscript output\\nprinttool Start X printer setup interface\\n~/.Xdefaults Define configuration for some X-\\napplications. ~ refers to user’s home\\ndirectory.\\nGet your own Official Linux Pocket Protector - includes\\nhandy command summary. Visit:\\nwww.powerup.com.au/~squadron', metadata={'source': 'The One Page Linux Manual.pdf', 'page': 1})]\n"
     ]
    }
   ],
   "source": [
    "#load the document using pypdfloader\n",
    "document_loader = PyPDFLoader(file_path=\"The One Page Linux Manual.pdf\")\n",
    "document = document_loader.load()\n",
    "print(f\"document: {document}\")"
   ]
  },
  {
   "cell_type": "code",
   "execution_count": 18,
   "id": "965be71b",
   "metadata": {},
   "outputs": [],
   "source": [
    "# summarize the document\n",
    "summary = summarize_chain(document)"
   ]
  },
  {
   "cell_type": "code",
   "execution_count": 21,
   "id": "fa29c552",
   "metadata": {},
   "outputs": [
    {
     "data": {
      "text/plain": [
       "'\"The One Page Linux Manual provides a summary of useful Linux commands for starting and stopping the system, accessing and mounting file systems, finding files and text within files, using the X Window System, managing files, installing software, user administration, tips and tricks, and configuration files. It also includes information on file permissions, X shortcuts, printing, and where to get an official Linux Pocket Protector.\"'"
      ]
     },
     "execution_count": 21,
     "metadata": {},
     "output_type": "execute_result"
    }
   ],
   "source": [
    "summary['output_text']"
   ]
  },
  {
   "cell_type": "markdown",
   "id": "fadeeaf8",
   "metadata": {},
   "source": [
    "# ====================="
   ]
  },
  {
   "cell_type": "code",
   "execution_count": 22,
   "id": "6a91ab30",
   "metadata": {},
   "outputs": [],
   "source": [
    "from langchain.chains import LLMChain\n",
    "from langchain.prompts import PromptTemplate\n",
    "from langchain.chat_models import ChatOpenAI\n",
    "\n",
    "prompt = PromptTemplate(template=\"Question: {question}\\n Answer: \", input_variables=[\"question\"])\n",
    "llm = ChatOpenAI(model_name=\"gpt-3.5-turbo\", temperature=0)\n",
    "chain = LLMChain(llm=llm, prompt=prompt)"
   ]
  },
  {
   "cell_type": "code",
   "execution_count": 23,
   "id": "eea2c07c",
   "metadata": {},
   "outputs": [
    {
     "data": {
      "text/plain": [
       "'The meaning of life is a deeply philosophical question that has been debated by thinkers, philosophers, and theologians for centuries. Different people and cultures have different beliefs about the purpose and meaning of life. Some believe that the meaning of life is to seek happiness and fulfillment, others believe it is to serve a higher power or fulfill a specific destiny, while others believe that life has no inherent meaning and it is up to each individual to create their own purpose. Ultimately, the meaning of life is a deeply personal and subjective question that each person must grapple with and find their own answer to.'"
      ]
     },
     "execution_count": 23,
     "metadata": {},
     "output_type": "execute_result"
    }
   ],
   "source": [
    "chain.run(\"What is the meaning of life?\")"
   ]
  }
 ],
 "metadata": {
  "kernelspec": {
   "display_name": "LLM",
   "language": "python",
   "name": "python3"
  },
  "language_info": {
   "codemirror_mode": {
    "name": "ipython",
    "version": 3
   },
   "file_extension": ".py",
   "mimetype": "text/x-python",
   "name": "python",
   "nbconvert_exporter": "python",
   "pygments_lexer": "ipython3",
   "version": "3.10.16"
  }
 },
 "nbformat": 4,
 "nbformat_minor": 5
}
