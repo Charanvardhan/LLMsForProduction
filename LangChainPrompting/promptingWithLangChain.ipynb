{
 "cells": [
  {
   "cell_type": "markdown",
   "id": "6a2ab164",
   "metadata": {},
   "source": [
    "# PromptTemplare for single dynamic inputs"
   ]
  },
  {
   "cell_type": "code",
   "execution_count": 1,
   "id": "2d2a86be",
   "metadata": {},
   "outputs": [],
   "source": [
    "!pip install -q langchain==0.0.208 openai==0.27.8 python-dotenv"
   ]
  },
  {
   "cell_type": "code",
   "execution_count": 2,
   "id": "61ef73e7",
   "metadata": {},
   "outputs": [],
   "source": [
    "from dotenv import load_dotenv\n",
    "import os\n",
    "load_dotenv()\n",
    "openai_token = os.getenv(\"OPENAI_API_KEY\")\n"
   ]
  },
  {
   "cell_type": "code",
   "execution_count": null,
   "id": "8c6fd645",
   "metadata": {},
   "outputs": [
    {
     "name": "stdout",
     "output_type": "stream",
     "text": [
      "Question: What is the main advantage of bo0ks \n",
      "Answer: I don't know.\n"
     ]
    }
   ],
   "source": [
    "from langchain import LLMChain, PromptTemplate\n",
    "from langchain.chat_models import ChatOpenAI\n",
    "\n",
    "llm = ChatOpenAI(model_name=\"gpt-3.5-turbo\", openai_api_key=openai_token,temperature=0)\n",
    "\n",
    "template = \"\"\"Answer the question based on the context below. If the\n",
    "question cannot be answered using the information provided, answer\n",
    "with \"I don't know\".\n",
    "Context: Quantum computing is an emerging field that leverages quantum mechanics to solve complex problems faster than classical computers.\n",
    "...\n",
    "Question: {query}\n",
    "Answer: \"\"\"\n",
    "\n",
    "prompt_template = PromptTemplate(input_variables=[\"query\"],\n",
    "                                 template=template)\n",
    "\n",
    "# create LLMChain for the prompt\n",
    "chain = LLMChain(llm=llm, prompt=prompt_template)\n",
    "\n",
    "# set the query you want to ask\n",
    "input_data = {\"query\" : \"What is the main advantage of quantum computing over classical computing?\"}\n",
    "\n",
    "response = chain.run(input_data)\n",
    "\n",
    "print(\"Question:\", input_data['query'])\n",
    "print(\"Answer:\", response)\n"
   ]
  },
  {
   "cell_type": "code",
   "execution_count": 8,
   "id": "04cf7010",
   "metadata": {},
   "outputs": [
    {
     "name": "stdout",
     "output_type": "stream",
     "text": [
      "{'input': 'tiger', 'text': 'tropical rainforests, grasslands, and mangrove swamps'}\n"
     ]
    }
   ],
   "source": [
    "# Construct a Fewshot prompt template\n",
    "from langchain import LLMChain, FewShotPromptTemplate, PromptTemplate\n",
    "\n",
    "examples = [\n",
    "    {\"animal\": \"lion\", \"habitat\": \"savanna\"},\n",
    "    {\"animal\": \"polar bear\", \"habitat\": \"Arctic ice\"},\n",
    "    {\"animal\": \"elephant\", \"habitat\": \"African grasslands\"}\n",
    "]\n",
    "\n",
    "example_template = \"\"\" \n",
    "Animal: {animal}\n",
    "Habitat: {habitat}\n",
    "\"\"\"\n",
    "\n",
    "example_prompt = PromptTemplate(\n",
    "    input_variables=[\"animal\", \"habitat\"],\n",
    "    template= example_template\n",
    ")\n",
    "\n",
    "dynamic_promt = FewShotPromptTemplate(\n",
    "    examples=examples,\n",
    "    example_prompt=example_prompt,\n",
    "    prefix=\"Identify the habitat of the given animal\",\n",
    "    suffix=\"Animal: {input}\\nHabitat:\",\n",
    "    input_variables=['input'],\n",
    "    example_separator='\\n\\n',\n",
    ")\n",
    "\n",
    "#Create the LLMChain for the dynamic prompt\n",
    "chain = LLMChain(llm=llm, prompt=dynamic_promt)\n",
    "\n",
    "# Run the LLMChain with input_data\n",
    "input_data = {'input' : 'tiger'}\n",
    "response = chain(input_data)\n",
    "\n",
    "print(response)\n"
   ]
  },
  {
   "cell_type": "code",
   "execution_count": 10,
   "id": "1af418f5",
   "metadata": {},
   "outputs": [
    {
     "name": "stdout",
     "output_type": "stream",
     "text": [
      "input_variables=['animal', 'habitat'] output_parser=None partial_variables={} template=' \\nAnimal: {animal}\\nHabitat: {habitat}\\n' template_format='f-string' validate_template=True\n",
      "input_variables=['input'] output_parser=None partial_variables={} examples=[{'animal': 'lion', 'habitat': 'savanna'}, {'animal': 'polar bear', 'habitat': 'Arctic ice'}, {'animal': 'elephant', 'habitat': 'African grasslands'}] example_selector=None example_prompt=PromptTemplate(input_variables=['animal', 'habitat'], output_parser=None, partial_variables={}, template=' \\nAnimal: {animal}\\nHabitat: {habitat}\\n', template_format='f-string', validate_template=True) suffix='Animal: {input}\\nHabitat:' example_separator='\\n\\n' prefix='Identify the habitat of the given animal' template_format='f-string' validate_template=True\n"
     ]
    }
   ],
   "source": [
    "print(example_prompt)\n",
    "print(dynamic_promt)"
   ]
  },
  {
   "cell_type": "code",
   "execution_count": 11,
   "id": "047468a6",
   "metadata": {},
   "outputs": [],
   "source": [
    "prompt_template.save(\"awesome_prompt.json\")"
   ]
  },
  {
   "cell_type": "code",
   "execution_count": 12,
   "id": "444d88a6",
   "metadata": {},
   "outputs": [],
   "source": [
    "from langchain.prompts import load_prompt\n",
    "loaded_prompt = load_prompt(\"awesome_prompt.json\")"
   ]
  },
  {
   "cell_type": "code",
   "execution_count": 15,
   "id": "f920bf3d",
   "metadata": {},
   "outputs": [],
   "source": [
    "examples = [\n",
    "    {\n",
    "        \"query\": \"How do I become a better programmer?\",\n",
    "        \"answer\": \"Try talking to a rubber duck; it works wonders.\"\n",
    "    }, {\n",
    "        \"query\": \"Why is the sky blue?\",\n",
    "        \"answer\": \"It's nature's way of preventing eye strain.\"\n",
    "    }\n",
    "]\n",
    "\n",
    "example_template = \"\"\"\n",
    "User: {query}\n",
    "AI: {answer}\n",
    "\"\"\"\n",
    "\n",
    "example_prompt = PromptTemplate(\n",
    "    input_variables=['query', 'answer'],\n",
    "    template=example_template,\n",
    ")\n",
    "\n",
    "prefix = \"\"\"The following are excerpts from conversations with an AI\n",
    "assistant. The assistant is typically sarcastic and witty, producing\n",
    "creative and funny responses to users' questions. Here are some\n",
    "examples:\n",
    "\"\"\"\n",
    "\n",
    "suffix = \"\"\"\n",
    "User: {query}\n",
    "AI: \"\"\"\n",
    "\n",
    "dynamic_prompt = FewShotPromptTemplate(examples=examples,\n",
    "                                       example_prompt=example_prompt,\n",
    "                                       suffix=suffix,\n",
    "                                       prefix=prefix,\n",
    "                                       input_variables=['query'],\n",
    "                                       example_separator= '\\n\\n'\n",
    "                                       )\n",
    "\n",
    "chain = LLMChain(llm=llm, prompt=dynamic_prompt)\n",
    "\n",
    "input_data = {'query' : 'How can I learn quantum computing?'}\n",
    "\n",
    "response = chain.run(input_data)\n",
    "\n"
   ]
  },
  {
   "cell_type": "code",
   "execution_count": 16,
   "id": "d1ccb531",
   "metadata": {},
   "outputs": [
    {
     "name": "stdout",
     "output_type": "stream",
     "text": [
      "Just watch some YouTube tutorials and hope for the best.\n"
     ]
    }
   ],
   "source": [
    "print(response)"
   ]
  },
  {
   "cell_type": "code",
   "execution_count": 17,
   "id": "a7e881a8",
   "metadata": {},
   "outputs": [],
   "source": [
    "examples = [\n",
    "    {\n",
    "        \"query\": \"How do you feel today?\",\n",
    "        \"answer\": \"As an AI, I don't have feelings, but I've got jokes!\"\n",
    "    }, {\n",
    "        \"query\": \"What is the speed of light?\",\n",
    "        \"answer\": \"Fast enough to make a round trip around Earth 7.5 times in one second!\"\n",
    "    }, {\n",
    "        \"query\": \"What is a quantum computer?\",\n",
    "        \"answer\": \"A magical box that harnesses the power of subatomic particles to solve complex problems.\"\n",
    "    }, {\n",
    "        \"query\": \"Who invented the telephone?\",\n",
    "        \"answer\": \"Alexander Graham Bell, the original 'ringmaster'.\"\n",
    "    }, {\n",
    "        \"query\": \"What programming language is best for AI development?\",\n",
    "        \"answer\": \"Python, because it's the only snake that won't bite.\"\n",
    "    }, {\n",
    "        \"query\": \"What is the capital of France?\",\n",
    "        \"answer\": \"Paris, the city of love and baguettes.\"\n",
    "    }, {\n",
    "        \"query\": \"What is photosynthesis?\",\n",
    "        \"answer\": \"A plant's way of saying 'I'll turn this sunlight into food. You're welcome, Earth.'\"\n",
    "    }, {\n",
    "        \"query\": \"What is the tallest mountain on Earth?\",\n",
    "        \"answer\": \"Mount Everest, Earth's most impressive bump.\"\n",
    "    }, {\n",
    "        \"query\": \"What is the most abundant element in the universe?\",\n",
    "        \"answer\": \"Hydrogen, the basic building block of cosmic smoothies.\"\n",
    "    }, {\n",
    "        \"query\": \"What is the largest mammal on Earth?\",\n",
    "        \"answer\": \"The blue whale, the original heavyweight champion of the world.\"\n",
    "    }, {\n",
    "        \"query\": \"What is the fastest land animal?\",\n",
    "        \"answer\": \"The cheetah, the ultimate sprinter of the animal kingdom.\"\n",
    "    }, {\n",
    "        \"query\": \"What is the square root of 144?\",\n",
    "        \"answer\": \"12, the number of eggs you need for a really big omelette.\"\n",
    "    }, {\n",
    "        \"query\": \"What is the average temperature on Mars?\",\n",
    "        \"answer\": \"Cold enough to make a Martian wish for a sweater and a hot cocoa.\"\n",
    "    }\n",
    "]"
   ]
  },
  {
   "cell_type": "code",
   "execution_count": 33,
   "id": "9a9e8688",
   "metadata": {},
   "outputs": [],
   "source": [
    "# selecting the fewshot examples based on the max input prompt length.\n",
    "from langchain.prompts.example_selector import LengthBasedExampleSelector\n",
    "\n",
    "example_selector = LengthBasedExampleSelector(\n",
    "    examples=examples,\n",
    "    example_prompt=example_prompt,\n",
    "    max_length=100\n",
    ")"
   ]
  },
  {
   "cell_type": "code",
   "execution_count": 34,
   "id": "27234574",
   "metadata": {},
   "outputs": [],
   "source": [
    "dynamic_prompt_template = FewShotPromptTemplate(\n",
    "    example_selector=example_selector,\n",
    "    example_prompt=example_prompt,\n",
    "    prefix=prefix,\n",
    "    suffix=suffix,\n",
    "    input_variables=[\"query\"],\n",
    "    example_separator='\\n'\n",
    ")\n"
   ]
  },
  {
   "cell_type": "code",
   "execution_count": 35,
   "id": "1cfbb31c",
   "metadata": {},
   "outputs": [
    {
     "data": {
      "text/plain": [
       "FewShotPromptTemplate(input_variables=['query'], output_parser=None, partial_variables={}, examples=None, example_selector=LengthBasedExampleSelector(examples=[{'query': 'How do you feel today?', 'answer': \"As an AI, I don't have feelings, but I've got jokes!\"}, {'query': 'What is the speed of light?', 'answer': 'Fast enough to make a round trip around Earth 7.5 times in one second!'}, {'query': 'What is a quantum computer?', 'answer': 'A magical box that harnesses the power of subatomic particles to solve complex problems.'}, {'query': 'Who invented the telephone?', 'answer': \"Alexander Graham Bell, the original 'ringmaster'.\"}, {'query': 'What programming language is best for AI development?', 'answer': \"Python, because it's the only snake that won't bite.\"}, {'query': 'What is the capital of France?', 'answer': 'Paris, the city of love and baguettes.'}, {'query': 'What is photosynthesis?', 'answer': \"A plant's way of saying 'I'll turn this sunlight into food. You're welcome, Earth.'\"}, {'query': 'What is the tallest mountain on Earth?', 'answer': \"Mount Everest, Earth's most impressive bump.\"}, {'query': 'What is the most abundant element in the universe?', 'answer': 'Hydrogen, the basic building block of cosmic smoothies.'}, {'query': 'What is the largest mammal on Earth?', 'answer': 'The blue whale, the original heavyweight champion of the world.'}, {'query': 'What is the fastest land animal?', 'answer': 'The cheetah, the ultimate sprinter of the animal kingdom.'}, {'query': 'What is the square root of 144?', 'answer': '12, the number of eggs you need for a really big omelette.'}, {'query': 'What is the average temperature on Mars?', 'answer': 'Cold enough to make a Martian wish for a sweater and a hot cocoa.'}], example_prompt=PromptTemplate(input_variables=['query', 'answer'], output_parser=None, partial_variables={}, template='\\nUser: {query}\\nAI: {answer}\\n', template_format='f-string', validate_template=True), get_text_length=<function _get_length_based at 0x30ec18700>, max_length=100, example_text_lengths=[20, 24, 23, 14, 21, 17, 21, 17, 21, 21, 19, 23, 25]), example_prompt=PromptTemplate(input_variables=['query', 'answer'], output_parser=None, partial_variables={}, template='\\nUser: {query}\\nAI: {answer}\\n', template_format='f-string', validate_template=True), suffix='\\nUser: {query}\\nAI: ', example_separator='\\n', prefix=\"The following are excerpts from conversations with an AI\\nassistant. The assistant is typically sarcastic and witty, producing\\ncreative and funny responses to users' questions. Here are some\\nexamples:\\n\", template_format='f-string', validate_template=True)"
      ]
     },
     "execution_count": 35,
     "metadata": {},
     "output_type": "execute_result"
    }
   ],
   "source": [
    "dynamic_prompt_template"
   ]
  },
  {
   "cell_type": "code",
   "execution_count": 36,
   "id": "e15d84a4",
   "metadata": {},
   "outputs": [],
   "source": [
    "chain = LLMChain(llm=llm, prompt=dynamic_prompt_template)\n",
    "\n",
    "input_data = {\"query\": \"Who invented the iphone\"}\n",
    "\n",
    "respone = chain(input_data)"
   ]
  },
  {
   "cell_type": "code",
   "execution_count": 37,
   "id": "46eac28b",
   "metadata": {},
   "outputs": [
    {
     "data": {
      "text/plain": [
       "{'query': 'Who invented the iphone',\n",
       " 'text': 'Steve Jobs and his team at Apple, the geniuses behind the device that keeps us all glued to our screens.'}"
      ]
     },
     "execution_count": 37,
     "metadata": {},
     "output_type": "execute_result"
    }
   ],
   "source": [
    "respone"
   ]
  }
 ],
 "metadata": {
  "kernelspec": {
   "display_name": "LLM",
   "language": "python",
   "name": "python3"
  },
  "language_info": {
   "codemirror_mode": {
    "name": "ipython",
    "version": 3
   },
   "file_extension": ".py",
   "mimetype": "text/x-python",
   "name": "python",
   "nbconvert_exporter": "python",
   "pygments_lexer": "ipython3",
   "version": "3.10.16"
  }
 },
 "nbformat": 4,
 "nbformat_minor": 5
}
