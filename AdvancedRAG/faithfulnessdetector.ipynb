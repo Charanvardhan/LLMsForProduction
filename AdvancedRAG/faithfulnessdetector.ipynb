{
 "cells": [
  {
   "cell_type": "code",
   "execution_count": 1,
   "id": "09e0e156",
   "metadata": {},
   "outputs": [
    {
     "data": {
      "text/plain": [
       "True"
      ]
     },
     "execution_count": 1,
     "metadata": {},
     "output_type": "execute_result"
    }
   ],
   "source": [
    "from dotenv import load_dotenv\n",
    "\n",
    "load_dotenv()\n"
   ]
  },
  {
   "cell_type": "code",
   "execution_count": 2,
   "id": "dd6fd295",
   "metadata": {},
   "outputs": [
    {
     "data": {
      "text/plain": [
       "1"
      ]
     },
     "execution_count": 2,
     "metadata": {},
     "output_type": "execute_result"
    }
   ],
   "source": [
    "from llama_index.core import SimpleDirectoryReader\n",
    "import os\n",
    "\n",
    "# load documents\n",
    "documents = SimpleDirectoryReader('./paul_graham/').load_data()\n",
    "len(documents)\n"
   ]
  },
  {
   "cell_type": "code",
   "execution_count": 3,
   "id": "327e0ba3",
   "metadata": {},
   "outputs": [],
   "source": [
    "from llama_index.core.node_parser import SentenceSplitter\n",
    "\n",
    "\n",
    "# Initialize the sentence splitter with desired parameters\n",
    "node_parser = SentenceSplitter(chunk_size=512, chunk_overlap=64)\n",
    "\n",
    "# Assuming 'documents' is a list of Document objects\n",
    "nodes = node_parser.get_nodes_from_documents(documents)"
   ]
  },
  {
   "cell_type": "code",
   "execution_count": 3,
   "id": "12167169",
   "metadata": {},
   "outputs": [
    {
     "name": "stderr",
     "output_type": "stream",
     "text": [
      "/Users/charanmannuru/miniconda3/envs/idx/lib/python3.11/site-packages/deeplake/util/check_latest_version.py:32: UserWarning: A newer version of deeplake (4.2.1) is available. It's recommended that you update to the latest version using `pip install -U deeplake`.\n",
      "  warnings.warn(\n"
     ]
    }
   ],
   "source": [
    "from llama_index.vector_stores.deeplake import DeepLakeVectorStore\n",
    "\n",
    "myid = \"charanvardhan\"\n",
    "dataset_path = f\"hub://{myid}/LlamaIndex_paulgraham_essay\""
   ]
  },
  {
   "cell_type": "code",
   "execution_count": 5,
   "id": "57c9c4ee",
   "metadata": {},
   "outputs": [],
   "source": [
    "from llama_index.core import StorageContext\n",
    "\n",
    "storage_context = StorageContext.from_defaults(vector_store=vector_store)\n",
    "storage_context.docstore.add_documents(nodes)\n"
   ]
  },
  {
   "cell_type": "code",
   "execution_count": 6,
   "id": "15c1f00f",
   "metadata": {},
   "outputs": [
    {
     "name": "stdout",
     "output_type": "stream",
     "text": [
      "Total nodes: 42\n",
      "First 5 node IDs: ['48482c90-2850-4991-ad8a-a2fdf672be33', '8d518718-1bb3-477e-abb7-f3889b560609', '2166b23f-22dc-4c61-b279-5219b071c897', '0d823376-f78b-42c7-bb68-98effeb78a05', '885146f6-3496-4b75-9e88-d4b2c48d59e5']\n"
     ]
    }
   ],
   "source": [
    "all_node_ids = list(storage_context.docstore.docs.keys())\n",
    "print(f\"Total nodes: {len(all_node_ids)}\")\n",
    "print(\"First 5 node IDs:\", all_node_ids[:5])"
   ]
  },
  {
   "cell_type": "markdown",
   "id": "9bfb4b32",
   "metadata": {},
   "source": [
    "## FaithfulnessEvaluator"
   ]
  },
  {
   "cell_type": "code",
   "execution_count": 4,
   "id": "3dbfce4a",
   "metadata": {},
   "outputs": [],
   "source": [
    "from llama_index.llms.openai import OpenAI\n",
    "from llama_index.core import Settings\n",
    "\n",
    "\n",
    "llm = OpenAI(\n",
    "    temperature=0,\n",
    "    model=\"gpt-3.5-turbo\",\n",
    "    max_tokens=512,\n",
    "    streaming=True,\n",
    ")\n",
    "# Use Settings instead of ServiceContext\n",
    "Settings.llm = llm\n"
   ]
  },
  {
   "cell_type": "code",
   "execution_count": 6,
   "id": "451e6902",
   "metadata": {},
   "outputs": [
    {
     "name": "stdout",
     "output_type": "stream",
     "text": [
      "Deep Lake Dataset in hub://charanvardhan/LlamaIndex_paulgraham_essay already exists, loading from the storage\n"
     ]
    }
   ],
   "source": [
    "from llama_index.vector_stores.deeplake import DeepLakeVectorStore\n",
    "from llama_index.core import StorageContext\n",
    "from llama_index.core import VectorStoreIndex\n",
    "\n",
    "vector_store = DeepLakeVectorStore(dataset_path=dataset_path, overwrite=False, read_only=True)\n"
   ]
  },
  {
   "cell_type": "code",
   "execution_count": 9,
   "id": "7bd606db",
   "metadata": {},
   "outputs": [],
   "source": [
    "storage_context = StorageContext.from_defaults(vector_store=vector_store)"
   ]
  },
  {
   "cell_type": "code",
   "execution_count": 10,
   "id": "593027e3",
   "metadata": {},
   "outputs": [],
   "source": [
    "index = VectorStoreIndex.from_vector_store(vector_store, storage_context=storage_context)"
   ]
  },
  {
   "cell_type": "code",
   "execution_count": 11,
   "id": "1cfb8a7b",
   "metadata": {},
   "outputs": [],
   "source": [
    "from llama_index.core.evaluation import FaithfulnessEvaluator\n",
    "\n",
    "evaluator = FaithfulnessEvaluator()"
   ]
  },
  {
   "cell_type": "code",
   "execution_count": 12,
   "id": "53c255c3",
   "metadata": {},
   "outputs": [
    {
     "name": "stdout",
     "output_type": "stream",
     "text": [
      "<class 'llama_index.core.query_engine.retriever_query_engine.RetrieverQueryEngine'>\n"
     ]
    }
   ],
   "source": [
    "query_engine = index.as_query_engine()\n",
    "print(type(query_engine))\n",
    "response = query_engine.query(\"What does Paul Graham do?\")\n",
    "\n",
    "eval_result = evaluator.evaluate_response(response=response)"
   ]
  },
  {
   "cell_type": "code",
   "execution_count": 13,
   "id": "0fab04ee",
   "metadata": {},
   "outputs": [
    {
     "name": "stdout",
     "output_type": "stream",
     "text": [
      "> response: Paul Graham organizes a Summer Founders Program for undergraduates, where he funds selected groups of students to work on startup projects instead of taking traditional summer jobs. He also gives talks and writes essays to share his insights and advice on starting a startup. Additionally, he is involved in investing in startups and providing guidance to young founders.\n",
      "> evaluator result: True\n"
     ]
    }
   ],
   "source": [
    "print( \"> response:\", response )\n",
    "\n",
    "print( \"> evaluator result:\", eval_result.passing )"
   ]
  },
  {
   "cell_type": "code",
   "execution_count": null,
   "id": "34b72d15",
   "metadata": {},
   "outputs": [],
   "source": []
  }
 ],
 "metadata": {
  "kernelspec": {
   "display_name": "idx",
   "language": "python",
   "name": "python3"
  },
  "language_info": {
   "codemirror_mode": {
    "name": "ipython",
    "version": 3
   },
   "file_extension": ".py",
   "mimetype": "text/x-python",
   "name": "python",
   "nbconvert_exporter": "python",
   "pygments_lexer": "ipython3",
   "version": "3.11.11"
  }
 },
 "nbformat": 4,
 "nbformat_minor": 5
}
