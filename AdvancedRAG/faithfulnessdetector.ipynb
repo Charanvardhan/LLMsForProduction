{
 "cells": [
  {
   "cell_type": "code",
   "execution_count": 1,
   "id": "09e0e156",
   "metadata": {},
   "outputs": [
    {
     "data": {
      "text/plain": [
       "True"
      ]
     },
     "execution_count": 1,
     "metadata": {},
     "output_type": "execute_result"
    }
   ],
   "source": [
    "from dotenv import load_dotenv\n",
    "\n",
    "load_dotenv()\n"
   ]
  },
  {
   "cell_type": "code",
   "execution_count": 2,
   "id": "dd6fd295",
   "metadata": {},
   "outputs": [
    {
     "data": {
      "text/plain": [
       "1"
      ]
     },
     "execution_count": 2,
     "metadata": {},
     "output_type": "execute_result"
    }
   ],
   "source": [
    "from llama_index.core import SimpleDirectoryReader\n",
    "import os\n",
    "\n",
    "# load documents\n",
    "documents = SimpleDirectoryReader('./paul_graham/').load_data()\n",
    "len(documents)\n"
   ]
  },
  {
   "cell_type": "code",
   "execution_count": 3,
   "id": "327e0ba3",
   "metadata": {},
   "outputs": [],
   "source": [
    "from llama_index.core.node_parser import SentenceSplitter\n",
    "\n",
    "\n",
    "# Initialize the sentence splitter with desired parameters\n",
    "node_parser = SentenceSplitter(chunk_size=512, chunk_overlap=64)\n",
    "\n",
    "# Assuming 'documents' is a list of Document objects\n",
    "nodes = node_parser.get_nodes_from_documents(documents)"
   ]
  },
  {
   "cell_type": "code",
   "execution_count": 3,
   "id": "12167169",
   "metadata": {},
   "outputs": [
    {
     "name": "stderr",
     "output_type": "stream",
     "text": [
      "/Users/charanmannuru/miniconda3/envs/idx/lib/python3.11/site-packages/deeplake/util/check_latest_version.py:32: UserWarning: A newer version of deeplake (4.2.1) is available. It's recommended that you update to the latest version using `pip install -U deeplake`.\n",
      "  warnings.warn(\n"
     ]
    }
   ],
   "source": [
    "from llama_index.vector_stores.deeplake import DeepLakeVectorStore\n",
    "\n",
    "myid = \"charanvardhan\"\n",
    "dataset_path = f\"hub://{myid}/LlamaIndex_paulgraham_essay\""
   ]
  },
  {
   "cell_type": "code",
   "execution_count": 5,
   "id": "57c9c4ee",
   "metadata": {},
   "outputs": [],
   "source": [
    "from llama_index.core import StorageContext\n",
    "\n",
    "storage_context = StorageContext.from_defaults(vector_store=vector_store)\n",
    "storage_context.docstore.add_documents(nodes)\n"
   ]
  },
  {
   "cell_type": "code",
   "execution_count": 6,
   "id": "15c1f00f",
   "metadata": {},
   "outputs": [
    {
     "name": "stdout",
     "output_type": "stream",
     "text": [
      "Total nodes: 42\n",
      "First 5 node IDs: ['48482c90-2850-4991-ad8a-a2fdf672be33', '8d518718-1bb3-477e-abb7-f3889b560609', '2166b23f-22dc-4c61-b279-5219b071c897', '0d823376-f78b-42c7-bb68-98effeb78a05', '885146f6-3496-4b75-9e88-d4b2c48d59e5']\n"
     ]
    }
   ],
   "source": [
    "all_node_ids = list(storage_context.docstore.docs.keys())\n",
    "print(f\"Total nodes: {len(all_node_ids)}\")\n",
    "print(\"First 5 node IDs:\", all_node_ids[:5])"
   ]
  },
  {
   "cell_type": "markdown",
   "id": "9bfb4b32",
   "metadata": {},
   "source": [
    "## FaithfulnessEvaluator"
   ]
  },
  {
   "cell_type": "code",
   "execution_count": 4,
   "id": "3dbfce4a",
   "metadata": {},
   "outputs": [],
   "source": [
    "from llama_index.llms.openai import OpenAI\n",
    "from llama_index.core import Settings\n",
    "\n",
    "\n",
    "llm = OpenAI(\n",
    "    temperature=0,\n",
    "    model=\"gpt-3.5-turbo\",\n",
    "    max_tokens=512,\n",
    "    streaming=True,\n",
    ")\n",
    "# Use Settings instead of ServiceContext\n",
    "Settings.llm = llm\n"
   ]
  },
  {
   "cell_type": "code",
   "execution_count": 6,
   "id": "451e6902",
   "metadata": {},
   "outputs": [
    {
     "name": "stdout",
     "output_type": "stream",
     "text": [
      "Deep Lake Dataset in hub://charanvardhan/LlamaIndex_paulgraham_essay already exists, loading from the storage\n"
     ]
    }
   ],
   "source": [
    "from llama_index.vector_stores.deeplake import DeepLakeVectorStore\n",
    "from llama_index.core import StorageContext\n",
    "from llama_index.core import VectorStoreIndex\n",
    "\n",
    "vector_store = DeepLakeVectorStore(dataset_path=dataset_path, overwrite=False, read_only=True)\n"
   ]
  },
  {
   "cell_type": "code",
   "execution_count": 9,
   "id": "7bd606db",
   "metadata": {},
   "outputs": [],
   "source": [
    "storage_context = StorageContext.from_defaults(vector_store=vector_store)"
   ]
  },
  {
   "cell_type": "code",
   "execution_count": 10,
   "id": "593027e3",
   "metadata": {},
   "outputs": [],
   "source": [
    "index = VectorStoreIndex.from_vector_store(vector_store, storage_context=storage_context)"
   ]
  },
  {
   "cell_type": "code",
   "execution_count": 11,
   "id": "1cfb8a7b",
   "metadata": {},
   "outputs": [],
   "source": [
    "from llama_index.core.evaluation import FaithfulnessEvaluator\n",
    "\n",
    "evaluator = FaithfulnessEvaluator()"
   ]
  },
  {
   "cell_type": "code",
   "execution_count": 12,
   "id": "53c255c3",
   "metadata": {},
   "outputs": [
    {
     "name": "stdout",
     "output_type": "stream",
     "text": [
      "<class 'llama_index.core.query_engine.retriever_query_engine.RetrieverQueryEngine'>\n"
     ]
    }
   ],
   "source": [
    "query_engine = index.as_query_engine()\n",
    "print(type(query_engine))\n",
    "response = query_engine.query(\"What does Paul Graham do?\")\n",
    "\n",
    "eval_result = evaluator.evaluate_response(response=response)"
   ]
  },
  {
   "cell_type": "code",
   "execution_count": 13,
   "id": "0fab04ee",
   "metadata": {},
   "outputs": [
    {
     "name": "stdout",
     "output_type": "stream",
     "text": [
      "> response: Paul Graham organizes a Summer Founders Program for undergraduates, where he funds selected groups of students to work on startup projects instead of taking traditional summer jobs. He also gives talks and writes essays to share his insights and advice on starting a startup. Additionally, he is involved in investing in startups and providing guidance to young founders.\n",
      "> evaluator result: True\n"
     ]
    }
   ],
   "source": [
    "print( \"> response:\", response )\n",
    "\n",
    "print( \"> evaluator result:\", eval_result.passing )"
   ]
  },
  {
   "cell_type": "markdown",
   "id": "bcaa6cea",
   "metadata": {},
   "source": [
    "# RAGAS"
   ]
  },
  {
   "cell_type": "code",
   "execution_count": null,
   "id": "34b72d15",
   "metadata": {},
   "outputs": [],
   "source": [
    "from llama_index.core import download_loader\n",
    "\n",
    "# Dynamically load the SimpleWebPageReader class\n",
    "SimpleWebPageReader = download_loader(\"SimpleWebPageReader\")\n",
    "\n",
    "# Instantiate it (html_to_text=True strips out tags)\n",
    "reader = SimpleWebPageReader(html_to_text=True)\n",
    "\n",
    "# Load pages\n",
    "docs = reader.load_data(\n",
    "    [\"https://en.wikipedia.org/wiki/New_York_City\"]\n",
    ")\n",
    "\n",
    "print(f\"Loaded {len(docs)} documents; first 200 chars:\\n\")\n",
    "print(docs[0].get_content()[:200], \"…\")\n"
   ]
  },
  {
   "cell_type": "code",
   "execution_count": 19,
   "id": "8522f6a1",
   "metadata": {},
   "outputs": [],
   "source": [
    "from llama_index.core import VectorStoreIndex\n",
    "from llama_index.core import SimpleDirectoryReader\n",
    "from llama_index.core.node_parser import SentenceSplitter\n",
    "\n",
    "# docs = \n",
    "vector_index = VectorStoreIndex.from_documents(docs, service_context=SentenceSplitter(chunk_size=512))\n",
    "                                               "
   ]
  },
  {
   "cell_type": "code",
   "execution_count": 20,
   "id": "2653cf06",
   "metadata": {},
   "outputs": [
    {
     "name": "stdout",
     "output_type": "stream",
     "text": [
      "New York City was named after King Charles II of England granted the lands to his brother, the Duke of York, in 1664. It was temporarily renamed New York before being permanently renamed in November 1674.\n"
     ]
    }
   ],
   "source": [
    "query_engine = vector_index.as_query_engine()\n",
    "\n",
    "response_vector = query_engine.query(\"How did New York City get its name?\")\n",
    "\n",
    "print(response_vector)"
   ]
  },
  {
   "cell_type": "code",
   "execution_count": 21,
   "id": "813e91d8",
   "metadata": {},
   "outputs": [],
   "source": [
    "eval_questions = [\n",
    "    \"What is the population of New York City as of 2020?\",\n",
    "    \"Which borough of New York City has the highest population?\",\n",
    "    \"What is the economic significance of New York City?\",\n",
    "    \"How did New York City get its name?\",\n",
    "    \"What is the significance of the Statue of Liberty in New York City?\",\n",
    "]\n",
    "\n",
    "eval_answers = [\n",
    "    \"8,804,000\",  # incorrect answer\n",
    "    \"Queens\",  # incorrect answer\n",
    "    \"New York City's economic significance is vast, as it serves as the global financial capital, housing Wall Street and major financial institutions. Its diverse economy spans technology, media, healthcare, education, and more, making it resilient to economic fluctuations. NYC is a hub for international business, attracting global companies, and boasts a large, skilled labor force. Its real estate market, tourism, cultural industries, and educational institutions further fuel its economic prowess. The city's transportation network and global influence amplify its impact on the world stage, solidifying its status as a vital economic player and cultural epicenter.\",\n",
    "    \"New York City got its name when it came under British control in 1664. King Charles II of England granted the lands to his brother, the Duke of York, who named the city New York in his own honor.\",\n",
    "    \"The Statue of Liberty in New York City holds great significance as a symbol of the United States and its ideals of liberty and peace. It greeted millions of immigrants who arrived in the U.S. by ship in the late 19th and early 20th centuries, representing hope and freedom for those seeking a better life. It has since become an iconic landmark and a global symbol of cultural diversity and freedom.\",\n",
    "]\n",
    "\n",
    "eval_answers = [[a] for a in eval_answers]"
   ]
  },
  {
   "cell_type": "code",
   "execution_count": 28,
   "id": "32e65c2b",
   "metadata": {},
   "outputs": [],
   "source": [
    "from ragas.metrics import (\n",
    "    faithfulness,\n",
    "    answer_relevancy,\n",
    "    context_precision,\n",
    "    context_recall,\n",
    "    # harmfulness,\n",
    ")\n",
    "# from ragas.metrics.critique import harmfulness\n",
    "\n",
    "metrics = [\n",
    "    faithfulness,\n",
    "    answer_relevancy,\n",
    "    context_precision,\n",
    "    context_recall,\n",
    "    # harmfulness,\n",
    "]"
   ]
  },
  {
   "cell_type": "code",
   "execution_count": 26,
   "id": "5b0e59ad",
   "metadata": {},
   "outputs": [
    {
     "name": "stdout",
     "output_type": "stream",
     "text": [
      "['AgentGoalAccuracyWithReference', 'AgentGoalAccuracyWithoutReference', 'AnswerAccuracy', 'AnswerCorrectness', 'AnswerRelevancy', 'AnswerSimilarity', 'AspectCritic', 'BleuScore', 'ContextEntityRecall', 'ContextPrecision', 'ContextRecall', 'ContextRelevance', 'ContextUtilization', 'DataCompyScore', 'DistanceMeasure', 'ExactMatch', 'FactualCorrectness', 'Faithfulness', 'FaithfulnesswithHHEM', 'InstanceRubrics', 'LLMContextPrecisionWithReference', 'LLMContextPrecisionWithoutReference', 'LLMContextRecall', 'LLMSQLEquivalence', 'Metric', 'MetricOutputType', 'MetricType', 'MetricWithEmbeddings', 'MetricWithLLM', 'MultiModalFaithfulness', 'MultiModalRelevance', 'MultiTurnMetric', 'NoiseSensitivity', 'NonLLMContextPrecisionWithReference', 'NonLLMContextRecall', 'NonLLMStringSimilarity', 'ResponseGroundedness', 'ResponseRelevancy', 'RougeScore', 'RubricsScore', 'SemanticSimilarity', 'SimpleCriteriaScore', 'SingleTurnMetric', 'StringPresence', 'SummarizationScore', 'ToolCallAccuracy', 'TopicAdherenceScore', '__all__', '__builtins__', '__cached__', '__doc__', '__file__', '__loader__', '__name__', '__package__', '__path__', '__spec__', '_answer_correctness', '_answer_relevance', '_answer_similarity', '_aspect_critic', '_bleu_score', '_context_entities_recall', '_context_precision', '_context_recall', '_datacompy_score', '_domain_specific_rubrics', '_factual_correctness', '_faithfulness', '_goal_accuracy', '_instance_specific_rubrics', '_multi_modal_faithfulness', '_multi_modal_relevance', '_noise_sensitivity', '_nv_metrics', '_rouge_score', '_simple_criteria', '_sql_semantic_equivalence', '_string', '_summarization', '_tool_call_accuracy', '_topic_adherence', 'answer_correctness', 'answer_relevancy', 'answer_similarity', 'base', 'context_entity_recall', 'context_precision', 'context_recall', 'faithfulness', 'multimodal_faithness', 'multimodal_relevance', 'summarization_score', 'utils']\n"
     ]
    }
   ],
   "source": [
    "import ragas.metrics as m\n",
    "print(dir(m))"
   ]
  },
  {
   "cell_type": "code",
   "execution_count": null,
   "id": "584b75cc",
   "metadata": {},
   "outputs": [],
   "source": [
    "# from ragas.llama_index.evaluation import evaluate\n",
    "\n",
    "# result = evaluate(query_engine, metrics, eval_questions, eval_answers)"
   ]
  },
  {
   "cell_type": "markdown",
   "id": "c91cf1ac",
   "metadata": {},
   "source": [
    "# Custom RAG Pipeline"
   ]
  },
  {
   "cell_type": "code",
   "execution_count": 34,
   "id": "90659814",
   "metadata": {},
   "outputs": [
    {
     "name": "stdout",
     "output_type": "stream",
     "text": [
      "--2025-04-30 19:20:55--  https://raw.githubusercontent.com/idontcalculate/data-repo/main/venus_transmission.txt\n",
      "Resolving raw.githubusercontent.com (raw.githubusercontent.com)... 185.199.110.133, 185.199.109.133, 185.199.108.133, ...\n",
      "Connecting to raw.githubusercontent.com (raw.githubusercontent.com)|185.199.110.133|:443... connected.\n",
      "HTTP request sent, awaiting response... 200 OK\n",
      "Length: 19241 (19K) [text/plain]\n",
      "Saving to: ‘venus_transmission.txt’\n",
      "\n",
      "venus_transmission. 100%[===================>]  18.79K  --.-KB/s    in 0.003s  \n",
      "\n",
      "2025-04-30 19:20:55 (7.28 MB/s) - ‘venus_transmission.txt’ saved [19241/19241]\n",
      "\n"
     ]
    }
   ],
   "source": [
    "!wget 'https://raw.githubusercontent.com/idontcalculate/data-repo/main/venus_transmission.txt'"
   ]
  },
  {
   "cell_type": "code",
   "execution_count": 36,
   "id": "86de0ef3",
   "metadata": {},
   "outputs": [
    {
     "name": "stdout",
     "output_type": "stream",
     "text": [
      "Loaded 1 docs\n"
     ]
    }
   ],
   "source": [
    "from llama_index.core import SimpleDirectoryReader\n",
    "\n",
    "reader = SimpleDirectoryReader(input_files=[\"venus_transmission.txt\"])\n",
    "\n",
    "docs = reader.load_data()\n",
    "print(f\"Loaded {len(docs)} docs\")"
   ]
  },
  {
   "cell_type": "code",
   "execution_count": 38,
   "id": "899cdcd4",
   "metadata": {},
   "outputs": [],
   "source": [
    "from llama_index.core.node_parser import SentenceSplitter\n",
    "\n",
    "\n",
    "# Initialize the sentence splitter with desired parameters\n",
    "node_parser = SentenceSplitter(chunk_size=512)\n",
    "\n",
    "# Assuming 'documents' is a list of Document objects\n",
    "nodes = node_parser.get_nodes_from_documents(documents)"
   ]
  },
  {
   "cell_type": "code",
   "execution_count": 39,
   "id": "800b4a1f",
   "metadata": {},
   "outputs": [],
   "source": [
    "vector_index = VectorStoreIndex(nodes)"
   ]
  },
  {
   "cell_type": "code",
   "execution_count": 40,
   "id": "8deb9942",
   "metadata": {},
   "outputs": [],
   "source": [
    "query_engine = vector_index.as_query_engine()\n",
    "\n",
    "response_vector = query_engine.query(\"What was The first beings to inhabit the planet?\")"
   ]
  },
  {
   "cell_type": "code",
   "execution_count": 41,
   "id": "a7e34913",
   "metadata": {},
   "outputs": [
    {
     "data": {
      "text/plain": [
       "'Aliens.'"
      ]
     },
     "execution_count": 41,
     "metadata": {},
     "output_type": "execute_result"
    }
   ],
   "source": [
    "response_vector.response"
   ]
  },
  {
   "cell_type": "code",
   "execution_count": 42,
   "id": "6202b80e",
   "metadata": {},
   "outputs": [
    {
     "data": {
      "text/plain": [
       "\"I remember vividly how impressed and envious I felt watching him sitting in front of it, typing programs right into the computer.\\n\\nComputers were expensive in those days and it took me years of nagging before I convinced my father to buy one, a TRS-80, in about 1980. The gold standard then was the Apple II, but a TRS-80 was good enough. This was when I really started programming. I wrote simple games, a program to predict how high my model rockets would fly, and a word processor that my father used to write at least one book. There was only room in memory for about 2 pages of text, so he'd write 2 pages at a time and then print them out, but it was a lot better than a typewriter.\\n\\nThough I liked programming, I didn't plan to study it in college. In college I was going to study philosophy, which sounded much more powerful. It seemed, to my naive high school self, to be the study of the ultimate truths, compared to which the things studied in other fields would be mere domain knowledge. What I discovered when I got to college was that the other fields took up so much of the space of ideas that there wasn't much left for these supposed ultimate truths. All that seemed left for philosophy were edge cases that people in other fields felt could safely be ignored.\\n\\nI couldn't have put this into words when I was 18. All I knew at the time was that I kept taking philosophy courses and they kept being boring. So I decided to switch to AI.\\n\\nAI was in the air in the mid 1980s, but there were two things especially that made me want to work on it: a novel by Heinlein called The Moon is a Harsh Mistress, which featured an intelligent computer called Mike, and a PBS documentary that showed Terry Winograd using SHRDLU. I haven't tried rereading The Moon is a Harsh Mistress, so I don't know how well it has aged, but when I read it I was drawn entirely into its world. It seemed only a matter of time before we'd have Mike, and when I saw Winograd using SHRDLU, it seemed like that time would be a few years at most.\""
      ]
     },
     "execution_count": 42,
     "metadata": {},
     "output_type": "execute_result"
    }
   ],
   "source": [
    "response_vector.source_nodes[0].get_text()"
   ]
  },
  {
   "cell_type": "code",
   "execution_count": 43,
   "id": "156e31db",
   "metadata": {},
   "outputs": [
    {
     "data": {
      "text/plain": [
       "\"Individually these two phenomena are tedious but bearable, but the combination is disastrous. You actually have to respond to the misinterpretations, because the assumption that you're present in the conversation means that not responding to any sufficiently upvoted misinterpretation reads as a tacit admission that it's correct. But that in turn encourages more; anyone who wants to pick a fight with you senses that now is their chance.\\n\\n[18] The worst thing about leaving YC was not working with Jessica anymore. We'd been working on YC almost the whole time we'd known each other, and we'd neither tried nor wanted to separate it from our personal lives, so leaving was like pulling up a deeply rooted tree.\\n\\n[19] One way to get more precise about the concept of invented vs discovered is to talk about space aliens. Any sufficiently advanced alien civilization would certainly know about the Pythagorean theorem, for example. I believe, though with less certainty, that they would also know about the Lisp in McCarthy's 1960 paper.\\n\\nBut if so there's no reason to suppose that this is the limit of the language that might be known to them. Presumably aliens need numbers and errors and I/O too. So it seems likely there exists at least one path out of McCarthy's Lisp along which discoveredness is preserved.\\n\\n\\n\\nThanks to Trevor Blackwell, John Collison, Patrick Collison, Daniel Gackle, Ralph Hazell, Jessica Livingston, Robert Morris, and Harj Taggar for reading drafts of this.\""
      ]
     },
     "execution_count": 43,
     "metadata": {},
     "output_type": "execute_result"
    }
   ],
   "source": [
    "# Second retrieved node\n",
    "response_vector.source_nodes[1].get_text()"
   ]
  },
  {
   "cell_type": "code",
   "execution_count": 46,
   "id": "8e389502",
   "metadata": {},
   "outputs": [
    {
     "name": "stderr",
     "output_type": "stream",
     "text": [
      "100%|██████████| 61/61 [00:51<00:00,  1.20it/s]"
     ]
    },
    {
     "name": "stdout",
     "output_type": "stream",
     "text": [
      "[\"Describe the author's experience working with the IBM 1401 in 9th grade, including the challenges they faced and the limitations of the technology at the time.\", \"How did the author's experience with programming on the IBM 1401 differ from their later experience with microcomputers? Discuss the impact of this transition on their work and understanding of programming.\", \"How did the introduction of microcomputers change the author's experience with programming compared to using the 1401 computer?\", \"Describe the author's journey with programming, from their initial struggles with the 1401 computer to their eventual success with writing programs on a TRS-80.\", \"How did the author's experience with programming on a TRS-80 computer in the 1980s influence their decision to switch from studying philosophy to AI in college?\", 'Discuss the influence of Heinlein\\'s novel \"The Moon is a Harsh Mistress\" and the PBS documentary featuring SHRDLU on the author\\'s interest in working on AI in the mid-1980s.', 'Explain the influence of Heinlein\\'s novel \"The Moon is a Harsh Mistress\" and the PBS documentary featuring SHRDLU on the author\\'s decision to switch from philosophy to AI in the mid-1980s.', \"How did learning Lisp expand the author's concept of programming and contribute to their excitement and belief in the potential intelligence of SHRDLU during their undergraduate thesis work?\", \"Explain the author's experience with learning Lisp and how it shaped their understanding of programming. How did this experience differ from their expectations of college?\", \"Discuss the author's realization about the limitations of artificial intelligence as practiced at the time during their first year of grad school. How did this realization impact their perspective on the field of AI?\", \"Explain the author's realization about AI during their first year of grad school. How did this realization shape their focus on Lisp and their decision to write a book about Lisp hacking?\", \"Discuss the author's perspective on the field of Computer Science as an alliance between theory and systems. How did the author's preference for building things over theory influence their career path, and what challenges did they face in the realm of systems work?\", \"How did the author's experience writing a book about Lisp hacking contribute to their learning process?\", 'What realization did the author have while visiting the Carnegie Institute in 1988, and how did it influence their perspective on building things that last?', \"How did the author's visit to the Carnegie Institute and observation of paintings lead to a significant realization about their career aspirations?\", \"How did the author's academic pursuits in computer science and art intersect during their time as a graduate student at Harvard?\", \"What was the author's initial perception of art and artists before taking art classes at Harvard?\", 'How did the author manage to complete their dissertation in a short amount of time and what topic did they choose for it?', 'What was the topic chosen by the author for their dissertation, and why did they regret not choosing a different topic in retrospect?', \"Describe the author's journey from applying to art schools to ultimately deciding to attend RISD.\", 'What challenges did the narrator face in preparing for the entrance exam at the Accademia in Florence, and how did they overcome these challenges?', 'Describe the dynamic between students and faculty in the painting department at the Accademia as portrayed in the text. How does this dynamic impact the learning experience for the students?', 'How did the author describe their experience as a student in the painting department at the Accademia, and what was the dynamic between the students and faculty?', 'What differences did the author note between painting still lives and painting people, and how did they approach painting still lives in their bedroom at night?', 'How does the process of painting still lives differ from painting people, according to the text?', 'Why does the author enjoy painting still lives, and what does this reveal about the process of closely observing and capturing details in art?', \"How does the author's experience with painting still lives relate to the concept of visual perception and the level of detail our brains typically process in everyday life?\", 'In what way did the company Interleaf differentiate itself in the software industry, particularly in terms of incorporating a scripting language inspired by Emacs and using a dialect of Lisp?', \"How did the author's experience at Interleaf differ from their time at the Accademia in Florence?\", 'What valuable lessons did the author learn from their time at Interleaf, despite not being fully engaged in their work?', \"How did the author's experience at Interleaf influence their understanding of technology companies and office dynamics?\", \"How did the author's time at Interleaf impact their financial situation and future career choices, particularly in relation to the concept of the low end eating the high end?\", 'How did the author\\'s experience with Viaweb and Y Combinator influence their perspective on the importance of being the \"entry level\" option in a market?', \"In what way did the author's time at RISD and their observations of the painting department shape their understanding of the relationship between art school and the art industry?\", 'How does the author describe the difference in rigor between the painting department and other departments at RISD?', 'Why did the author ultimately decide to drop out of RISD in 1993 and move to New York?', \"How did the author's experience at RISD differ from their high school experience in terms of art and painting?\", \"How did the author's decision to move to New York City impact their career as an artist and their financial concerns?\", \"How did the author's interest in becoming financially successful lead to the decision to write another book on Lisp and start a company to put art galleries online?\", \"How did the author's exposure to the World Wide Web influence their decision to start a company in the online art gallery space, despite the initial skepticism about the idea?\", 'What was the initial startup idea that the author and Robert Morris pursued, and why did it ultimately prove to be unsuccessful?', \"How did the author's perception of the World Wide Web evolve from initially wanting to put art galleries online to eventually focusing on building online stores?\", 'Describe the process of how the idea for an online store builder software came about, including the initial challenges faced by the developers and the breakthrough moment that led to the development of a web app.', 'Discuss the significance of the development of a web app for building online stores in the context of the time period described in the passage. How did this innovation change the way software was developed and utilized for e-commerce purposes?', 'How did the founders of Viaweb come up with the idea of creating a web app for building online stores? What challenges did they face initially and how did they overcome them?', \"Describe the initial stages of Viaweb's development, including the funding they received, the challenges faced by one of the founders in terms of finances, and the timeline for the company's launch.\", \"How did the author's negative net worth impact the early stages of launching the company?\", 'Why did the author decide to recruit more programmers, and who was recommended to him by Robert?', 'Who were the three main individuals involved in the development of the software for the online stores, and what specific components of the software did each of them work on?', 'Why was it mentioned that the team behind the online stores was almost fatally early in launching the business in January 1996, despite concerns about being late to the ecommerce market?', 'How did the founders of the ecommerce software company Viaweb divide the responsibilities for developing the software, and what was the role of each founder in the process?', 'Why did Viaweb decide to price their ecommerce software at $100 a month for a small store and $300 a month for a big one, and how did this pricing strategy impact their success in the market?', 'How did the founders of Viaweb unintentionally set their prices low, and what impact did this have on their business?', 'How did the founders of Viaweb initially attract users, and what did this process teach them about their software and the retail industry?', 'How did the experience of building stores for users teach the author about retail and the importance of user feedback in developing software?', \"What was the author's initial misunderstanding about the ultimate test of a startup, and how did this misunderstanding impact the growth and eventual outcome of the company?\", \"How did the author's decision to hire more people impact the financial trajectory of the company, and what were the consequences of this decision?\", \"Describe the author's experience after Viaweb was acquired by Yahoo, including their feelings towards the acquisition and the changes in their lifestyle.\", \"How did the narrator's experience at Yahoo differ from their time running Viaweb, and what ultimately led to their decision to leave Yahoo?\", \"Why did the narrator's boss at Yahoo have a long conversation with them about their plans to leave, and what was the potential concern regarding the narrator's departure during the Internet Bubble era?\", \"Why did the narrator's boss at Yahoo have a long conversation with them when they announced they were leaving the company?\", \"How did the narrator's decision to leave their job and start painting impact their energy and ambition levels?\", \"How did the narrator's return to New York after struggling with painting in California lead to a change in their lifestyle and artistic experimentation?\", 'What idea did the narrator have in the spring of 2000, based on their previous experience with Viaweb, and how did it relate to the future of web applications?', 'What was the innovative approach the author took in their painting process, and how did it contribute to their artistic development?', \"What was the author's idea for a new web application, and why did they decide to move to Cambridge to pursue it despite facing some challenges with recruiting collaborators?\", 'What were the initial challenges faced by the narrator in starting the new company Aspra, and how did they attempt to overcome these challenges?', 'Why did the narrator ultimately decide to shift their focus from building Aspra as a company to developing it as an open source project?', 'What led the author to decide to switch from building a company to working on an open source project? How did this decision impact their work on the new Lisp dialect, Arc?', \"Describe the author's experience after giving a talk at a Lisp conference and posting a postscript file online. How did this event lead to a significant increase in page views for the author's website?\", 'What was the turning point for the author in terms of figuring out what to work on, according to the context information provided?', \"How did the author's realization about the ability to publish essays online impact his future work and writing endeavors, as described in the passage?\", \"How did the shift to online publishing impact the author's decision to focus on writing essays?\", 'According to the author, what significance does working on unprestigious projects hold in terms of personal growth and motivation?', \"What is the significance of the party at the narrator's house in October 2003, and how did it lead to a significant encounter with Jessica Livingston?\", \"How does the narrator's experience with writing essays, working on spam filters, painting, and hosting dinner parties demonstrate the importance of pursuing work that may not be prestigious but aligns with one's true motives?\", \"What was the clever idea behind the big party at the narrator's house in October 2003, and how did it contribute to introducing new people to each other?\", \"How did Jessica Livingston's experiences in the startup world influence her decision to compile a book of interviews with startup founders, and what changes did the narrator suggest to her regarding venture capital?\", 'What were some of the key ideas that the speaker discussed with the Harvard Computer Society during their talk on how to start a startup?', 'How did the convergence of different factors lead to the decision to start their own investment firm, as described in the passage?', 'How did the idea of starting an investment firm with partners come about for the narrator, and what were the motivations behind this decision?', 'In what ways did the narrator and their partners approach angel investing differently from traditional VC firms and individual angels, and what was their ultimate goal in supporting startups?', 'How did Y Combinator differentiate itself from traditional VC firms and angel investors in terms of providing support to startup founders?', 'How did the founders of Y Combinator come up with the batch model for funding startups, and what was the rationale behind this approach?', 'How did the founders of Y Combinator come up with the idea for the Summer Founders Program, and what was their initial motivation behind it?', 'Describe the process of selecting participants for the Summer Founders Program, including the number of applications received, the interview process, and the final number of groups funded.', 'How did the Summer Founders Program come about, and what was the initial response from undergraduates and recent graduates?', 'What was the funding model for startups in the Summer Founders Program, and how did it differ from previous deals made by the author and his team?', 'How did the funding model for startups at Y Combinator evolve over time, and what advantages did funding startups in batches provide for both the investors and the startups themselves?', 'How did the creation of a tight-knit community among Y Combinator alumni and current batch startups contribute to the success of the program, and what unexpected benefits arose from this sense of community?', 'How did the creation of Hacker News (HN) contribute to the growth of Y Combinator (YC), according to the text? Why was it ultimately considered a source of stress for the author?', \"Why did the author gradually stop working on the programming language Arc, despite initially being involved in its development and using it for YC's internal software? What impact did the growth of YC have on the author's original intentions for YC as a part-time endeavor?\", \"How did the author's role at Y Combinator differ from other types of work they had done in the past, and what aspects of the job did they find engaging despite some challenges?\", \"What was the significance of the advice offered by Robert Morris to the author during his visit to California in 2010, and how did it impact the author's perspective on their work at Y Combinator?\", \"What advice did Robert Morris offer to the author, and how did the author initially interpret it? How did the author's understanding of the advice change over time?\", \"How did the author's personal experiences, such as disputes between cofounders and a family health crisis, impact their perspective on their involvement with Y Combinator and their future plans?\", 'What event led to the decision for the original founders of Y Combinator to consider handing over control of the organization to someone else?', 'Why did Sam Altman initially decline the offer to become president of Y Combinator, and what ultimately led to his acceptance of the position?', \"What were the reasons behind the decision to recruit Sam Altman to take over as president of Y Combinator, and how did this decision impact the organization's structure and leadership roles?\", \"How did the author's personal circumstances, specifically the passing of their mother, influence their decision to step back from running Y Combinator and pursue a new passion in painting?\", \"What was the author's initial decision after finishing work on YC, and how did this decision impact their productivity and engagement?\", 'Can you explain the significance of Lisp as a programming language and how it differs from traditional programming languages?', 'Explain the origins of Lisp and how it evolved from a formal model of computation to a programming language. What role did John McCarthy and Steve Russell play in this evolution?', \"Discuss the significance of McCarthy's axiomatic approach in defining a complete programming language based on Lisp. How did the limitations of early computers impact the development of Lisp as a programming language?\", 'How did McCarthy initially test his interpreter for the programming language, and what limitations did he face in doing so?', 'What challenges did the author face in developing the new Lisp language, Bel, and how did they overcome these challenges?', 'How did the author manage to make Bel, an interpreter written in itself, actually run despite facing challenges with understanding the code and tracking errors?', \"Describe the author's experience working on Bel, including the sacrifices made, the satisfaction derived from the work, and the impact of moving to England on the project.\", \"How did the author's experience with computers differ from the typical evolution of technology during their time, and how did this impact their perception of microcomputers?\", \"Discuss the significance of the author's decision to move to England in 2016 and how it influenced the writing process of Bel.\", \"How did the evolution of computers impact the author's experience, particularly in relation to time-sharing machines and microcomputers?\", \"How did the author's time living in Florence influence their perspective on art, specifically in terms of painting people and still life portraits?\", \"How did Moore's Law impact companies like Interleaf in the 1990s, and what was the outcome for these companies?\", 'In what way did the signature style seekers at RISD demonstrate the tight coupling between money and coolness in the art world?', 'How did Viaweb allow users to define their own page styles, and what programming language were they unknowingly editing underneath?', 'How does the author discuss the impact of customs on industries like venture capital and essay writing in the context of rapid change?', \"How did Y Combinator's name change from Cambridge Seed, and what was the significance of the new name chosen?\", 'In what way did Y Combinator challenge the traditional VC practices in terms of branding and funding, as described in the context information?', 'How did the YC logo come about, and what significance does it hold in relation to the Viaweb logo?', 'In what way did the combination of writing essays and running a forum pose a challenge for the individual mentioned in the text, and how did they navigate this issue?', 'How did leaving Y Combinator affect the author, particularly in relation to their work with Jessica and the intertwining of their personal lives with their work on YC?', \"In what way does the author use the concept of space aliens and their potential knowledge of mathematical and programming concepts to discuss the idea of invented vs discovered language, specifically referencing McCarthy's Lisp in 1960?\"]\n"
     ]
    },
    {
     "name": "stderr",
     "output_type": "stream",
     "text": [
      "\n"
     ]
    }
   ],
   "source": [
    "from llama_index.llms.openai import OpenAI\n",
    "from llama_index.core import Settings\n",
    "from llama_index.core.evaluation import generate_question_context_pairs\n",
    "\n",
    "\n",
    "\n",
    "# llm = OpenAI(\n",
    "#     temperature=0,\n",
    "#     model=\"gpt-3.5-turbo\",\n",
    "# )\n",
    "# # Use Settings instead of ServiceContext\n",
    "# Settings.llm = llm\n",
    "\n",
    "qa_dataset = generate_question_context_pairs(\n",
    "    nodes,\n",
    "    llm=llm,\n",
    "    num_questions_per_chunk=2\n",
    ")\n",
    "\n",
    "queries = list(qa_dataset.queries.values())\n",
    "print( queries )"
   ]
  },
  {
   "cell_type": "code",
   "execution_count": 47,
   "id": "0b7620fc",
   "metadata": {},
   "outputs": [],
   "source": [
    "retriever = vector_index.as_retriever(similarity_top_k=2)"
   ]
  },
  {
   "cell_type": "code",
   "execution_count": 49,
   "id": "1dccc071",
   "metadata": {},
   "outputs": [],
   "source": [
    "from llama_index.core.evaluation import RetrieverEvaluator\n",
    "\n",
    "retriever_evaluator = RetrieverEvaluator.from_metric_names(\n",
    "    [\"mrr\", \"hit_rate\"], retriever=retriever\n",
    ")"
   ]
  },
  {
   "cell_type": "code",
   "execution_count": 50,
   "id": "ccc7ffc8",
   "metadata": {},
   "outputs": [],
   "source": [
    "eval_results = await retriever_evaluator.aevaluate_dataset(qa_dataset)"
   ]
  },
  {
   "cell_type": "code",
   "execution_count": 51,
   "id": "044f039c",
   "metadata": {},
   "outputs": [],
   "source": [
    "def display_results(name, eval_results):\n",
    "    \"\"\"Display results from evaluate.\"\"\"\n",
    "\n",
    "    metric_dicts = []\n",
    "    for eval_result in eval_results:\n",
    "        metric_dict = eval_result.metric_vals_dict\n",
    "        metric_dicts.append(metric_dict)\n",
    "\n",
    "    full_df = pd.DataFrame(metric_dicts)\n",
    "\n",
    "    hit_rate = full_df[\"hit_rate\"].mean()\n",
    "    mrr = full_df[\"mrr\"].mean()\n",
    "\n",
    "    metric_df = pd.DataFrame(\n",
    "        {\"Retriever Name\": [name], \"Hit Rate\": [hit_rate], \"MRR\": [mrr]}\n",
    "    )\n",
    "\n",
    "    return metric_df"
   ]
  },
  {
   "cell_type": "code",
   "execution_count": 52,
   "id": "0aa44ea6",
   "metadata": {},
   "outputs": [
    {
     "data": {
      "text/html": [
       "<div>\n",
       "<style scoped>\n",
       "    .dataframe tbody tr th:only-of-type {\n",
       "        vertical-align: middle;\n",
       "    }\n",
       "\n",
       "    .dataframe tbody tr th {\n",
       "        vertical-align: top;\n",
       "    }\n",
       "\n",
       "    .dataframe thead th {\n",
       "        text-align: right;\n",
       "    }\n",
       "</style>\n",
       "<table border=\"1\" class=\"dataframe\">\n",
       "  <thead>\n",
       "    <tr style=\"text-align: right;\">\n",
       "      <th></th>\n",
       "      <th>Retriever Name</th>\n",
       "      <th>Hit Rate</th>\n",
       "      <th>MRR</th>\n",
       "    </tr>\n",
       "  </thead>\n",
       "  <tbody>\n",
       "    <tr>\n",
       "      <th>0</th>\n",
       "      <td>OpenAI Embedding Retriever</td>\n",
       "      <td>0.770492</td>\n",
       "      <td>0.643443</td>\n",
       "    </tr>\n",
       "  </tbody>\n",
       "</table>\n",
       "</div>"
      ],
      "text/plain": [
       "               Retriever Name  Hit Rate       MRR\n",
       "0  OpenAI Embedding Retriever  0.770492  0.643443"
      ]
     },
     "execution_count": 52,
     "metadata": {},
     "output_type": "execute_result"
    }
   ],
   "source": [
    "import pandas as pd\n",
    "\n",
    "display_results(\"OpenAI Embedding Retriever\", eval_results)"
   ]
  },
  {
   "cell_type": "code",
   "execution_count": 55,
   "id": "36b57ce9",
   "metadata": {},
   "outputs": [],
   "source": [
    "from llama_index.core.settings import Settings\n",
    "\n",
    "# gpt-3.5-turbo\n",
    "gpt35 = OpenAI(temperature=0, model=\"gpt-3.5-turbo\")\n",
    "Settings.llm = gpt35\n",
    "\n",
    "# gpt-4\n",
    "gpt4 = OpenAI(temperature=0, model=\"gpt-4-turbo\")\n",
    "Settings.llm = gpt4"
   ]
  },
  {
   "cell_type": "code",
   "execution_count": 56,
   "id": "838d5bbf",
   "metadata": {},
   "outputs": [],
   "source": [
    "vector_index = VectorStoreIndex(nodes, service_context = gpt35)\n",
    "query_engine = vector_index.as_query_engine()"
   ]
  },
  {
   "cell_type": "code",
   "execution_count": 57,
   "id": "0b8c3e07",
   "metadata": {},
   "outputs": [],
   "source": [
    "eval_query = queries[10]\n",
    "\n",
    "response_vector = query_engine.query(eval_query)"
   ]
  },
  {
   "cell_type": "code",
   "execution_count": 58,
   "id": "fc1454ea",
   "metadata": {},
   "outputs": [
    {
     "name": "stdout",
     "output_type": "stream",
     "text": [
      "> eval_query:  Explain the author's realization about AI during their first year of grad school. How did this realization shape their focus on Lisp and their decision to write a book about Lisp hacking?\n",
      "> response_vector: During the author's first year of graduate school, they realized that the prevailing approach to artificial intelligence (AI) at the time was fundamentally flawed. The AI systems they encountered were limited to transforming natural language into formal representations and adding these to a database of knowledge. This approach demonstrated that only a small subset of natural language could be treated as a formal language, revealing a significant gap between the capabilities of these AI systems and true understanding of natural language.\n",
      "\n",
      "This realization led the author to reassess their academic and career focus. Disillusioned with the traditional path of AI research, which they saw as unlikely to bridge the gap in understanding natural language, the author turned their attention to Lisp, a programming language associated with AI research but interesting in its own right. The author decided to write a book about Lisp hacking, recognizing that writing the book would deepen their understanding of the language. This shift marked a move away from pursuing AI in the manner it was practiced at the time, towards exploring the broader and more flexible potentials of programming through Lisp.\n"
     ]
    }
   ],
   "source": [
    "print( \"> eval_query: \", eval_query )\n",
    "print( \"> response_vector:\", response_vector )"
   ]
  },
  {
   "cell_type": "code",
   "execution_count": 60,
   "id": "ef851253",
   "metadata": {},
   "outputs": [],
   "source": [
    "from llama_index.core.evaluation import RelevancyEvaluator\n",
    "from llama_index.core.evaluation import FaithfulnessEvaluator\n",
    "\n",
    "relevancy_gpt4 = RelevancyEvaluator(gpt4)\n",
    "faithfulness_gpt4 = FaithfulnessEvaluator(gpt4)"
   ]
  },
  {
   "cell_type": "code",
   "execution_count": 61,
   "id": "2a38e687",
   "metadata": {},
   "outputs": [
    {
     "name": "stdout",
     "output_type": "stream",
     "text": [
      "True\n",
      "True\n"
     ]
    }
   ],
   "source": [
    "# Compute faithfulness evaluation\n",
    "\n",
    "eval_result = faithfulness_gpt4.evaluate_response(response=response_vector)\n",
    "# check passing parameter in eval_result if it passed the evaluation.\n",
    "print( eval_result.passing )\n",
    "\n",
    "# Relevancy evaluation\n",
    "eval_result = relevancy_gpt4.evaluate_response(\n",
    "    query=eval_query, response=response_vector\n",
    ")\n",
    "# You can check passing parameter in eval_result if it passed the evaluation.\n",
    "print( eval_result.passing )"
   ]
  },
  {
   "cell_type": "code",
   "execution_count": 63,
   "id": "d55c47cc",
   "metadata": {},
   "outputs": [
    {
     "name": "stdout",
     "output_type": "stream",
     "text": [
      "> faithfulness_score 1.0\n",
      "> relevancy_score 1.0\n"
     ]
    }
   ],
   "source": [
    "#Batch Evaluator:\n",
    "#BatchEvalRunner to compute multiple evaluations in batch wise manner.\n",
    "\n",
    "from llama_index.core.evaluation import BatchEvalRunner\n",
    "\n",
    "# Let's pick top 10 queries to do evaluation\n",
    "batch_eval_queries = queries[:10]\n",
    "\n",
    "# Initiate BatchEvalRunner to compute FaithFulness and Relevancy Evaluation.\n",
    "runner = BatchEvalRunner(\n",
    "    {\"faithfulness\": faithfulness_gpt4, \"relevancy\": relevancy_gpt4},\n",
    "    workers=8,\n",
    ")\n",
    "\n",
    "# Compute evaluation\n",
    "eval_results = await runner.aevaluate_queries(\n",
    "    query_engine, queries=batch_eval_queries\n",
    ")\n",
    "# Let's get faithfulness score\n",
    "faithfulness_score = sum(result.passing for result in eval_results['faithfulness']) / len(eval_results['faithfulness'])\n",
    "# get relevancy score\n",
    "relevancy_score = sum(result.passing for result in eval_results['faithfulness']) / len(eval_results['relevancy'])\n",
    "\n",
    "print( \"> faithfulness_score\", faithfulness_score )\n",
    "print( \"> relevancy_score\", relevancy_score )"
   ]
  },
  {
   "cell_type": "code",
   "execution_count": null,
   "id": "e6fa2d78",
   "metadata": {},
   "outputs": [],
   "source": []
  }
 ],
 "metadata": {
  "kernelspec": {
   "display_name": "idx",
   "language": "python",
   "name": "python3"
  },
  "language_info": {
   "codemirror_mode": {
    "name": "ipython",
    "version": 3
   },
   "file_extension": ".py",
   "mimetype": "text/x-python",
   "name": "python",
   "nbconvert_exporter": "python",
   "pygments_lexer": "ipython3",
   "version": "3.11.11"
  }
 },
 "nbformat": 4,
 "nbformat_minor": 5
}
