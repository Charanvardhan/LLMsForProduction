{
 "cells": [
  {
   "cell_type": "code",
   "execution_count": 9,
   "id": "f37289e7",
   "metadata": {},
   "outputs": [],
   "source": [
    "from dotenv import load_dotenv\n",
    "load_dotenv()\n",
    "import nest_asyncio\n",
    "nest_asyncio.apply()\n"
   ]
  },
  {
   "cell_type": "code",
   "execution_count": 2,
   "id": "aa3347b4",
   "metadata": {},
   "outputs": [],
   "source": [
    "from llama_index.core import Settings\n",
    "from llama_index.llms.openai import OpenAI"
   ]
  },
  {
   "cell_type": "code",
   "execution_count": 3,
   "id": "c35f590f",
   "metadata": {},
   "outputs": [],
   "source": [
    "llm = OpenAI(model=\"gpt-3.5-turbo\", temperature=0.0)\n",
    "Settings.llm = llm\n"
   ]
  },
  {
   "cell_type": "markdown",
   "id": "5bfe37cb",
   "metadata": {},
   "source": [
    "## Faithfulness Evaluator"
   ]
  },
  {
   "cell_type": "code",
   "execution_count": 4,
   "id": "4bed1dc3",
   "metadata": {},
   "outputs": [],
   "source": [
    "from llama_index.vector_stores.deeplake import DeepLakeVectorStore\n",
    "from llama_index.core import StorageContext\n",
    "from llama_index.core import VectorStoreIndex\n",
    "\n",
    "my_activeloop_id = \"charanvardhan\"\n",
    "my_activeloop_dataset = \"LlamaIndex_paulgraham_essay\"\n",
    "dataset_path = f\"hub://{my_activeloop_id}/{my_activeloop_dataset}\"\n",
    "\n",
    "# Create a DeepLake vector store\n",
    "vector_store = DeepLakeVectorStore(\n",
    "    dataset_path=dataset_path,\n",
    "    overwrite=False,\n",
    ")\n",
    "\n",
    "storage_context = StorageContext.from_defaults(vector_store=vector_store)\n",
    "\n",
    "# Create an index\n",
    "index = VectorStoreIndex.from_vector_store(vector_store,storage_context=storage_context)"
   ]
  },
  {
   "cell_type": "code",
   "execution_count": null,
   "id": "023a4b86",
   "metadata": {},
   "outputs": [],
   "source": [
    "from llama_index.core.evaluation import FaithfulnessEvaluator\n",
    "\n",
    "evaluator = FaithfulnessEvaluator()\n",
    "                                  "
   ]
  },
  {
   "cell_type": "code",
   "execution_count": 10,
   "id": "3a75d21c",
   "metadata": {},
   "outputs": [],
   "source": [
    "#query index \n",
    "query_engine = index.as_query_engine()\n",
    "response = query_engine.query(\"what does paul graham do?\")\n",
    "\n",
    "eval_result = evaluator.evaluate_response(response=response)"
   ]
  },
  {
   "cell_type": "code",
   "execution_count": 12,
   "id": "16f48299",
   "metadata": {},
   "outputs": [
    {
     "name": "stdout",
     "output_type": "stream",
     "text": [
      "response: Paul Graham organizes a Summer Founders Program where he invites undergraduates to apply, interviews selected groups, and funds promising startups. He also provides a space for these startups to work in his building in Cambridge and arranges for experts to give talks on startups after weekly dinners.\n",
      "eval_result: True\n"
     ]
    }
   ],
   "source": [
    "print(\"response:\", response)\n",
    "print(\"eval_result:\", eval_result.passing)"
   ]
  },
  {
   "cell_type": "code",
   "execution_count": null,
   "id": "06302e8e",
   "metadata": {},
   "outputs": [],
   "source": []
  }
 ],
 "metadata": {
  "kernelspec": {
   "display_name": "llamaIndex",
   "language": "python",
   "name": "python3"
  },
  "language_info": {
   "codemirror_mode": {
    "name": "ipython",
    "version": 3
   },
   "file_extension": ".py",
   "mimetype": "text/x-python",
   "name": "python",
   "nbconvert_exporter": "python",
   "pygments_lexer": "ipython3",
   "version": "3.10.17"
  }
 },
 "nbformat": 4,
 "nbformat_minor": 5
}
