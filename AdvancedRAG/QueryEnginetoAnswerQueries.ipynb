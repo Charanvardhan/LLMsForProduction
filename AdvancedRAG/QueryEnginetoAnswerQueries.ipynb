{
 "cells": [
  {
   "cell_type": "code",
   "execution_count": 26,
   "id": "f4123e43",
   "metadata": {},
   "outputs": [
    {
     "data": {
      "text/plain": [
       "True"
      ]
     },
     "execution_count": 26,
     "metadata": {},
     "output_type": "execute_result"
    }
   ],
   "source": [
    "from dotenv import load_dotenv\n",
    "\n",
    "load_dotenv()\n"
   ]
  },
  {
   "cell_type": "code",
   "execution_count": null,
   "id": "1f115530",
   "metadata": {},
   "outputs": [],
   "source": []
  },
  {
   "cell_type": "code",
   "execution_count": 27,
   "id": "4fdb628b",
   "metadata": {},
   "outputs": [
    {
     "data": {
      "text/plain": [
       "1"
      ]
     },
     "execution_count": 27,
     "metadata": {},
     "output_type": "execute_result"
    }
   ],
   "source": [
    "from llama_index.core import SimpleDirectoryReader\n",
    "\n",
    "\n",
    "# load documents\n",
    "documents = SimpleDirectoryReader('./paul_graham/').load_data()\n",
    "len(documents)"
   ]
  },
  {
   "cell_type": "code",
   "execution_count": 28,
   "id": "cac7f8e6",
   "metadata": {},
   "outputs": [],
   "source": [
    "from llama_index.core.node_parser import SentenceSplitter\n",
    "\n",
    "# Initialize the sentence splitter with desired parameters\n",
    "node_parser = SentenceSplitter(chunk_size=512, chunk_overlap=64)\n",
    "\n",
    "# Assuming 'documents' is a list of Document objects\n",
    "nodes = node_parser.get_nodes_from_documents(documents)\n"
   ]
  },
  {
   "cell_type": "code",
   "execution_count": 29,
   "id": "6417af26",
   "metadata": {},
   "outputs": [
    {
     "data": {
      "text/plain": [
       "355"
      ]
     },
     "execution_count": 29,
     "metadata": {},
     "output_type": "execute_result"
    }
   ],
   "source": [
    "len(nodes[0].text.split())"
   ]
  },
  {
   "cell_type": "code",
   "execution_count": 30,
   "id": "b968a42d",
   "metadata": {},
   "outputs": [],
   "source": [
    "from llama_index.vector_stores.deeplake import DeepLakeVectorStore\n",
    "\n",
    "my_activeloop_id = \"charanvardhan\"\n",
    "my_activeloop_dataset = \"LlamaIndex_paulgraham_essay\"\n",
    "dataset_path = f\"hub://{my_activeloop_id}/{my_activeloop_dataset}\"\n",
    "\n",
    "# Create a DeepLake vector storepip install deeplake[enterprise]\n",
    "vector_store = DeepLakeVectorStore(\n",
    "    dataset_path=dataset_path,\n",
    "    overwrite=False,\n",
    ")"
   ]
  },
  {
   "cell_type": "code",
   "execution_count": 31,
   "id": "55b70db7",
   "metadata": {},
   "outputs": [],
   "source": [
    "from llama_index.core import StorageContext\n",
    "\n",
    "storage_context = StorageContext.from_defaults(vector_store=vector_store)\n",
    "storage_context.docstore.add_documents(nodes)"
   ]
  },
  {
   "cell_type": "code",
   "execution_count": 32,
   "id": "c26cd522",
   "metadata": {},
   "outputs": [
    {
     "name": "stdout",
     "output_type": "stream",
     "text": [
      "Total nodes: 42\n",
      "First 5 node IDs: ['1ee5f532-adf4-4e5a-9510-75055a85cce6', '555ec155-01bf-414e-ac0c-bd78f40b10eb', 'f918e3df-2b18-4d88-bb0b-e0a9d9e3118f', '4ecb4164-f644-4b27-901d-8bd54121de62', 'd518d469-8525-4711-8f57-b0a55cbc411d']\n"
     ]
    }
   ],
   "source": [
    "all_node_ids = list(storage_context.docstore.docs.keys())\n",
    "print(f\"Total nodes: {len(all_node_ids)}\")\n",
    "print(\"First 5 node IDs:\", all_node_ids[:5])\n"
   ]
  },
  {
   "cell_type": "code",
   "execution_count": 33,
   "id": "992ccc23",
   "metadata": {},
   "outputs": [
    {
     "data": {
      "text/plain": [
       "'What I Worked On\\n\\nFebruary 2021\\n\\nBefore college the two main things I worked on, outside of school, were writing and programming. I didn\\'t write essays. I wrote what beginning writers were supposed to write then, and probably still are: short stories. My stories were awful. They had hardly any plot, just characters with strong feelings, which I imagined made them deep.\\n\\nThe first programs I tried writing were on the IBM 1401 that our school district used for what was then called \"data processing.\" This was in 9th grade, so I was 13 or 14. The school district\\'s 1401 happened to be in the basement of our junior high school, and my friend Rich Draves and I got permission to use it. It was like a mini Bond villain\\'s lair down there, with all these alien-looking machines — CPU, disk drives, printer, card reader — sitting up on a raised floor under bright fluorescent lights.\\n\\nThe language we used was an early version of Fortran. You had to type programs on punch cards, then stack them in the card reader and press a button to load the program into memory and run it. The result would ordinarily be to print something on the spectacularly loud printer.\\n\\nI was puzzled by the 1401. I couldn\\'t figure out what to do with it. And in retrospect there\\'s not much I could have done with it. The only form of input to programs was data stored on punched cards, and I didn\\'t have any data stored on punched cards. The only other option was to do things that didn\\'t rely on any input, like calculate approximations of pi, but I didn\\'t know enough math to do anything interesting of that type. So I\\'m not surprised I can\\'t remember any programs I wrote, because they can\\'t have done much. My clearest memory is of the moment I learned it was possible for programs not to terminate, when one of mine didn\\'t. On a machine without time-sharing, this was a social as well as a technical error, as the data center manager\\'s expression made clear.\\n\\nWith microcomputers, everything changed.'"
      ]
     },
     "execution_count": 33,
     "metadata": {},
     "output_type": "execute_result"
    }
   ],
   "source": [
    "all_nodes = [storage_context.docstore.get_node(node_id) for node_id in all_node_ids]\n",
    "all_nodes[0].text\n"
   ]
  },
  {
   "cell_type": "code",
   "execution_count": 34,
   "id": "2ae553cf",
   "metadata": {},
   "outputs": [],
   "source": [
    "from llama_index.core import VectorStoreIndex\n",
    "\n",
    "vector_index = VectorStoreIndex(nodes, storage_context=storage_context)"
   ]
  },
  {
   "cell_type": "code",
   "execution_count": 35,
   "id": "497b3ff8",
   "metadata": {},
   "outputs": [],
   "source": [
    "query_engine = vector_index.as_query_engine(streaming=True, similarity_top_k=10)"
   ]
  },
  {
   "cell_type": "code",
   "execution_count": 36,
   "id": "03d5eb6c",
   "metadata": {},
   "outputs": [],
   "source": [
    "  # type: ignore"
   ]
  },
  {
   "cell_type": "code",
   "execution_count": 37,
   "id": "419fa6ef",
   "metadata": {},
   "outputs": [
    {
     "data": {
      "text/plain": [
       "['__abstractmethods__',\n",
       " '__class__',\n",
       " '__delattr__',\n",
       " '__dict__',\n",
       " '__dir__',\n",
       " '__doc__',\n",
       " '__eq__',\n",
       " '__format__',\n",
       " '__ge__',\n",
       " '__getattribute__',\n",
       " '__gt__',\n",
       " '__hash__',\n",
       " '__init__',\n",
       " '__init_subclass__',\n",
       " '__le__',\n",
       " '__lt__',\n",
       " '__module__',\n",
       " '__ne__',\n",
       " '__new__',\n",
       " '__reduce__',\n",
       " '__reduce_ex__',\n",
       " '__repr__',\n",
       " '__setattr__',\n",
       " '__sizeof__',\n",
       " '__slots__',\n",
       " '__str__',\n",
       " '__subclasshook__',\n",
       " '__weakref__',\n",
       " '_abc_impl',\n",
       " '_apply_node_postprocessors',\n",
       " '_aquery',\n",
       " '_as_query_component',\n",
       " '_get_prompt_modules',\n",
       " '_get_prompts',\n",
       " '_node_postprocessors',\n",
       " '_query',\n",
       " '_response_synthesizer',\n",
       " '_retriever',\n",
       " '_update_prompts',\n",
       " '_validate_prompts',\n",
       " 'aquery',\n",
       " 'aretrieve',\n",
       " 'as_query_component',\n",
       " 'asynthesize',\n",
       " 'callback_manager',\n",
       " 'from_args',\n",
       " 'get_prompts',\n",
       " 'query',\n",
       " 'retrieve',\n",
       " 'retriever',\n",
       " 'synthesize',\n",
       " 'update_prompts',\n",
       " 'with_retriever']"
      ]
     },
     "execution_count": 37,
     "metadata": {},
     "output_type": "execute_result"
    }
   ],
   "source": [
    "dir(query_engine)"
   ]
  },
  {
   "cell_type": "code",
   "execution_count": 38,
   "id": "18b47b6e",
   "metadata": {},
   "outputs": [
    {
     "name": "stdout",
     "output_type": "stream",
     "text": [
      "Paul Graham organizes a Summer Founders Program for undergraduates, where he invites them to apply and selects a few to fund. He also gives talks on startups and provides advice on starting a startup. Additionally, he shares insights on seed funding and the importance of successful startup founders as sources of advice."
     ]
    }
   ],
   "source": [
    "streaming_response = query_engine.query(\n",
    "    \"What does Paul Graham do?\",\n",
    ")\n",
    "streaming_response.print_response_stream()"
   ]
  },
  {
   "cell_type": "markdown",
   "id": "67ccd32c",
   "metadata": {},
   "source": [
    "## SubQuestion Query Engine"
   ]
  },
  {
   "cell_type": "code",
   "execution_count": 39,
   "id": "4d6911be",
   "metadata": {},
   "outputs": [],
   "source": [
    "query_engine = vector_index.as_query_engine(similarity_top_k=10)"
   ]
  },
  {
   "cell_type": "code",
   "execution_count": 40,
   "id": "14f70d46",
   "metadata": {},
   "outputs": [],
   "source": [
    "from llama_index.core.tools import QueryEngineTool, ToolMetadata\n",
    "from llama_index.core.query_engine import SubQuestionQueryEngine\n",
    "\n",
    "query_engine_tools = [QueryEngineTool\n",
    "                     (\n",
    "                        query_engine=query_engine,\n",
    "                        metadata=ToolMetadata(\n",
    "                            name=\"pg_essay\",\n",
    "                            description=\"Paul Graaham essay on what i worked on\"\n",
    "                        ),\n",
    "                     ),]\n",
    "\n",
    "query_engine = SubQuestionQueryEngine.from_defaults(\n",
    "    query_engine_tools=query_engine_tools,\n",
    "    use_async=True,\n",
    ")"
   ]
  },
  {
   "cell_type": "code",
   "execution_count": 41,
   "id": "07a936e9",
   "metadata": {},
   "outputs": [
    {
     "data": {
      "text/plain": [
       "<llama_index.core.query_engine.sub_question_query_engine.SubQuestionQueryEngine at 0x128f13010>"
      ]
     },
     "execution_count": 41,
     "metadata": {},
     "output_type": "execute_result"
    }
   ],
   "source": [
    "query_engine"
   ]
  },
  {
   "cell_type": "code",
   "execution_count": 42,
   "id": "ed2265ce",
   "metadata": {},
   "outputs": [],
   "source": [
    "import nest_asyncio\n",
    "nest_asyncio.apply()\n"
   ]
  },
  {
   "cell_type": "code",
   "execution_count": 43,
   "id": "e12afc5b",
   "metadata": {},
   "outputs": [
    {
     "name": "stdout",
     "output_type": "stream",
     "text": [
      "Generated 3 sub questions.\n",
      "\u001b[1;3;38;2;237;90;200m[pg_essay] Q: What did Paul Graham work on before Y Combinator?\n",
      "\u001b[0m\u001b[1;3;38;2;90;149;237m[pg_essay] Q: What did Paul Graham work on during Y Combinator?\n",
      "\u001b[0m\u001b[1;3;38;2;11;159;203m[pg_essay] Q: What did Paul Graham work on after Y Combinator?\n",
      "\u001b[0m\u001b[1;3;38;2;11;159;203m[pg_essay] A: After Y Combinator, Paul Graham worked on angel investing.\n",
      "\u001b[0m\u001b[1;3;38;2;237;90;200m[pg_essay] A: Before Y Combinator, Paul Graham was involved in projects with Robert and Trevor, and he was also considering angel investing.\n",
      "\u001b[0m\u001b[1;3;38;2;90;149;237m[pg_essay] A: Paul Graham worked on scaling startup funding and creating a community of startups through Y Combinator. He also focused on providing support and resources to batches of startups, fostering a network where startups could help each other and even become each other's customers. Additionally, he initially intended to work on three things: hacking, writing essays, and Y Combinator, but as Y Combinator grew, it became a significant part of his attention.\n",
      "\u001b[0m"
     ]
    }
   ],
   "source": [
    "response = query_engine.query(\n",
    "    \"How was Paul Grahams life different before, during, and after YC?\"\n",
    ")"
   ]
  },
  {
   "cell_type": "code",
   "execution_count": 44,
   "id": "f976bc53",
   "metadata": {},
   "outputs": [
    {
     "name": "stdout",
     "output_type": "stream",
     "text": [
      "The final response :\n",
      " Paul Graham's life was focused on projects with Robert and Trevor before Y Combinator, during Y Combinator he worked on scaling startup funding and building a community of startups, and after Y Combinator, he shifted his focus to angel investing.\n"
     ]
    }
   ],
   "source": [
    "print( \"The final response :\\n\", response )"
   ]
  },
  {
   "cell_type": "markdown",
   "id": "e30064b0",
   "metadata": {},
   "source": [
    "### Reranking Documents"
   ]
  },
  {
   "cell_type": "code",
   "execution_count": 45,
   "id": "135060ae",
   "metadata": {},
   "outputs": [],
   "source": [
    "import cohere\n",
    "\n",
    "# Get your cohere API key on: www.cohere.com\n",
    "co = cohere.Client()\n",
    "\n",
    "# Example query and passages\n",
    "query = \"What is the capital of the United States?\"\n",
    "documents = [\n",
    "   \"Carson City is the capital city of the American state of Nevada. At the  2010 United States Census, Carson City had a population of 55,274.\",\n",
    "   \"The Commonwealth of the Northern Mariana Islands is a group of islands in the Pacific Ocean that are a political division controlled by the United States. Its capital is Saipan.\",\n",
    "   \"Charlotte Amalie is the capital and largest city of the United States Virgin Islands. It has about 20,000 people. The city is on the island of Saint Thomas.\",\n",
    "   \"Washington, D.C. (also known as simply Washington or D.C., and officially as the District of Columbia) is the capital of the United States. It is a federal district. \",\n",
    "   \"Capital punishment (the death penalty) has existed in the United States since before the United States was a country. As of 2017, capital punishment is legal in 30 of the 50 states.\",\n",
    "   \"North Dakota is a state in the United States. 672,591 people lived in North Dakota in the year 2010. The capital and seat of government is Bismarck.\"\n",
    "   ]"
   ]
  },
  {
   "cell_type": "code",
   "execution_count": 76,
   "id": "a8638d0c",
   "metadata": {},
   "outputs": [],
   "source": [
    "results = co.rerank(query=query, documents=documents, top_n=3, model=\"rerank-english-v2.0\")"
   ]
  },
  {
   "cell_type": "code",
   "execution_count": 83,
   "id": "054ab19b",
   "metadata": {},
   "outputs": [
    {
     "name": "stdout",
     "output_type": "stream",
     "text": [
      "Document Rank: 1, Document Index: 3\n",
      "Document: Washington, D.C. (also known as simply Washington or D.C., and officially as the District of Columbia) is the capital of the United States. It is a federal district. \n",
      "relevance: 0.9800\n",
      "\n",
      "Document Rank: 2, Document Index: 1\n",
      "Document: The Commonwealth of the Northern Mariana Islands is a group of islands in the Pacific Ocean that are a political division controlled by the United States. Its capital is Saipan.\n",
      "relevance: 0.2991\n",
      "\n",
      "Document Rank: 3, Document Index: 4\n",
      "Document: Capital punishment (the death penalty) has existed in the United States since before the United States was a country. As of 2017, capital punishment is legal in 30 of the 50 states.\n",
      "relevance: 0.2849\n",
      "\n"
     ]
    }
   ],
   "source": [
    "for rank, item in enumerate(results.results, start=1):\n",
    "    doc_idx = item.index           # this is an int\n",
    "    text    = documents[doc_idx]   # grab it from your original list\n",
    "\n",
    "    print(f\"Document Rank: {rank}, Document Index: {doc_idx}\")\n",
    "    print(f\"Document: {text}\")\n",
    "    print(f\"relevance: {item.relevance_score:.4f}\\n\")"
   ]
  },
  {
   "cell_type": "markdown",
   "id": "fca7ae33",
   "metadata": {},
   "source": [
    "## Cohere in LlamaIndex"
   ]
  },
  {
   "cell_type": "code",
   "execution_count": 93,
   "id": "6f518938",
   "metadata": {},
   "outputs": [],
   "source": [
    "import os\n",
    "from llama_index.postprocessor.cohere_rerank import CohereRerank"
   ]
  },
  {
   "cell_type": "code",
   "execution_count": 94,
   "id": "2082b184",
   "metadata": {},
   "outputs": [],
   "source": [
    "cohere_rerank = CohereRerank(api_key=os.environ['CO_API_KEY'],top_n=2)"
   ]
  },
  {
   "cell_type": "code",
   "execution_count": 95,
   "id": "1983c5a6",
   "metadata": {},
   "outputs": [],
   "source": [
    "query_engine = vector_index.as_query_engine(similarity_top_k=10, node_postprocessors=[cohere_rerank])"
   ]
  },
  {
   "cell_type": "code",
   "execution_count": 96,
   "id": "da6d9c2b",
   "metadata": {},
   "outputs": [
    {
     "name": "stdout",
     "output_type": "stream",
     "text": [
      "Sam Altman was approached to become the president of Y Combinator (YC) after the original founders decided to hand over control of the organization to ensure its longevity. Initially hesitant due to his interest in starting a startup focused on nuclear reactors, Sam eventually agreed to take over as president of YC starting with the winter 2014 batch.\n"
     ]
    }
   ],
   "source": [
    "response = query_engine.query(\"what did Sam Altman do in this essay?\")\n",
    "print(response)"
   ]
  }
 ],
 "metadata": {
  "kernelspec": {
   "display_name": "llamaIndex",
   "language": "python",
   "name": "python3"
  },
  "language_info": {
   "codemirror_mode": {
    "name": "ipython",
    "version": 3
   },
   "file_extension": ".py",
   "mimetype": "text/x-python",
   "name": "python",
   "nbconvert_exporter": "python",
   "pygments_lexer": "ipython3",
   "version": "3.10.17"
  }
 },
 "nbformat": 4,
 "nbformat_minor": 5
}
