{
 "cells": [
  {
   "cell_type": "code",
   "execution_count": 1,
   "metadata": {},
   "outputs": [],
   "source": [
    "from dotenv import load_dotenv\n",
    "import os\n",
    "\n",
    "# Load the specific .env file\n",
    "load_dotenv(dotenv_path=\"keys.env\")\n",
    "\n",
    "# Set the API keys from environment variables\n",
    "openai_key = os.getenv(\"OPENAI_API_KEY\")\n",
    "if openai_key is None:\n",
    "    raise ValueError(\"OPENAI_API_KEY not found in environment variables\")\n",
    "os.environ[\"OPENAI_API_KEY\"] = openai_key\n",
    "\n",
    "google_key = os.getenv(\"GOOGLE_API_KEY\")\n",
    "if google_key is None:\n",
    "    raise ValueError(\"GOOGLE_API_KEY not found in environment variables\")\n",
    "os.environ[\"GOOGLE_API_KEY\"] = google_key"
   ]
  },
  {
   "cell_type": "code",
   "execution_count": 2,
   "metadata": {},
   "outputs": [],
   "source": [
    "# False: Generate the embedding for the dataset. (Associated cost with using OpenAI endpoint)\n",
    "# True: Load the dataset that already has the embedding vectors.\n",
    "load_embedding = False"
   ]
  },
  {
   "cell_type": "markdown",
   "metadata": {},
   "source": [
    "LOAD DATASETS"
   ]
  },
  {
   "cell_type": "code",
   "execution_count": null,
   "metadata": {},
   "outputs": [
    {
     "name": "stdout",
     "output_type": "stream",
     "text": [
      "--2025-03-31 18:33:35--  https://raw.githubusercontent.com/AlaFalaki/tutorial_notebooks/main/data/mini-llama-articles.csv\n",
      "Resolving raw.githubusercontent.com (raw.githubusercontent.com)... 185.199.109.133, 185.199.110.133, 185.199.108.133, ...\n",
      "Connecting to raw.githubusercontent.com (raw.githubusercontent.com)|185.199.109.133|:443... connected.\n",
      "HTTP request sent, awaiting response... 200 OK\n",
      "Length: 173646 (170K) [text/plain]\n",
      "Saving to: ‘mini-llama-articles.csv.1’\n",
      "\n",
      "mini-llama-articles 100%[===================>] 169.58K  --.-KB/s    in 0.04s   \n",
      "\n",
      "2025-03-31 18:33:36 (3.96 MB/s) - ‘mini-llama-articles.csv.1’ saved [173646/173646]\n",
      "\n",
      "--2025-03-31 18:33:36--  https://raw.githubusercontent.com/AlaFalaki/tutorial_notebooks/main/data/mini-llama-articles-with_embeddings.csv\n",
      "Resolving raw.githubusercontent.com (raw.githubusercontent.com)... 185.199.110.133, 185.199.108.133, 185.199.111.133, ...\n",
      "Connecting to raw.githubusercontent.com (raw.githubusercontent.com)|185.199.110.133|:443... connected.\n",
      "HTTP request sent, awaiting response... 200 OK\n",
      "Length: 6157740 (5.9M) [text/plain]\n",
      "Saving to: ‘mini-llama-articles-with_embeddings.csv.1’\n",
      "\n",
      "mini-llama-articles 100%[===================>]   5.87M  14.1MB/s    in 0.4s    \n",
      "\n",
      "2025-03-31 18:33:37 (14.1 MB/s) - ‘mini-llama-articles-with_embeddings.csv.1’ saved [6157740/6157740]\n",
      "\n"
     ]
    }
   ],
   "source": [
    "# !wget https://raw.githubusercontent.com/AlaFalaki/tutorial_notebooks/main/data/mini-llama-articles.csv\n",
    "# !wget https://raw.githubusercontent.com/AlaFalaki/tutorial_notebooks/main/data/mini-llama-articles-with_embeddings.csv"
   ]
  },
  {
   "cell_type": "code",
   "execution_count": 4,
   "metadata": {},
   "outputs": [],
   "source": [
    "def splitInputText(text, max_chunk_size=1024):\n",
    "    \"\"\"\n",
    "    Splits the input text into smaller chunks of a specified maximum size.\n",
    "    \"\"\"\n",
    "    chunks = []\n",
    "    for i in range(0, len(text), max_chunk_size):\n",
    "        chunks.append(text[i:i+max_chunk_size])\n",
    "        # print(f\"Chunk {len(chunks)}: {text[i:i+max_chunk_size]}\")\n",
    "    return chunks\n",
    "    "
   ]
  },
  {
   "cell_type": "code",
   "execution_count": 10,
   "metadata": {},
   "outputs": [
    {
     "name": "stdout",
     "output_type": "stream",
     "text": [
      "CSV file has 15 rows\n"
     ]
    }
   ],
   "source": [
    "import csv\n",
    "\n",
    "chunks = []\n",
    "\n",
    "#load the file as a csv\n",
    "with open(\"mini-llama-articles.csv\", \"r\", encoding=\"utf-8\") as f:\n",
    "    csv_reader = csv.reader(f)\n",
    "    print(f\"CSV file has {len(list(csv_reader))} rows\")\n",
    "\n",
    "    for idx, row in enumerate(csv_reader):\n",
    "        if idx == 0:\n",
    "            continue\n",
    "        chunks.extend(splitInputText(row[1]))\n",
    "        \n"
   ]
  },
  {
   "cell_type": "code",
   "execution_count": null,
   "metadata": {},
   "outputs": [],
   "source": []
  }
 ],
 "metadata": {
  "kernelspec": {
   "display_name": "LLM",
   "language": "python",
   "name": "python3"
  },
  "language_info": {
   "codemirror_mode": {
    "name": "ipython",
    "version": 3
   },
   "file_extension": ".py",
   "mimetype": "text/x-python",
   "name": "python",
   "nbconvert_exporter": "python",
   "pygments_lexer": "ipython3",
   "version": "3.10.16"
  }
 },
 "nbformat": 4,
 "nbformat_minor": 2
}
